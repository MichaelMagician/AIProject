{
 "cells": [
  {
   "cell_type": "markdown",
   "metadata": {},
   "source": [
    "# Digit Recogonizer using GDBT"
   ]
  },
  {
   "cell_type": "code",
   "execution_count": 18,
   "metadata": {},
   "outputs": [],
   "source": [
    "import numpy as np\n",
    "import pandas as pd\n",
    "import matplotlib.pyplot as plt\n",
    "from sklearn.model_selection import train_test_split\n",
    "from sklearn.metrics import accuracy_score, confusion_matrix, f1_score, classification_report\n",
    "import xgboost as xgb\n",
    "from sklearn.datasets import load_digits"
   ]
  },
  {
   "cell_type": "markdown",
   "metadata": {},
   "source": [
    "### Read data"
   ]
  },
  {
   "cell_type": "code",
   "execution_count": 17,
   "metadata": {},
   "outputs": [
    {
     "name": "stdout",
     "output_type": "stream",
     "text": [
      "(1437, 64) (360, 64) (1437,) (360,)\n",
      "[ 0.  0.  0.  9. 15.  2.  0.  0.  0.  0.  5. 16. 11.  1.  0.  0.  0.  0.\n",
      " 13. 15.  1.  0.  0.  0.  0.  2. 16. 11.  0.  0.  0.  0.  0.  2. 16. 11.\n",
      "  4.  4.  0.  0.  0.  2. 15. 16. 16. 14. 10.  1.  0.  0.  9. 16.  7.  3.\n",
      " 15.  6.  0.  0.  0.  7. 15. 16. 16.  6.]\n"
     ]
    },
    {
     "data": {
      "image/png": "[encoded data removed]",
      "text/plain": [
       "<Figure size 640x480 with 8 Axes>"
      ]
     },
     "metadata": {},
     "output_type": "display_data"
    }
   ],
   "source": [
    "data_dir = './data/knn'\n",
    "sample_rows = 5000\n",
    "\n",
    "# def load_data(data_dir):\n",
    "#     data = pd.read_csv(f'{data_dir}/train.csv/train.csv', nrows=sample_rows)\n",
    "#     training_data = data.values[:,1:]    \n",
    "#     training_label_data = data.values[:, 0]\n",
    "#     test_data = pd.read_csv(f'{data_dir}/test.csv/test.csv').values\n",
    "#     return training_data, training_label_data, test_data\n",
    "\n",
    "digits = load_digits()\n",
    "\n",
    "train_x, test_x, train_y, test_y = train_test_split(digits.data, digits.target, test_size=0.2, random_state=0)\n",
    "print(train_x.shape, test_x.shape, train_y.shape, test_y.shape)\n",
    "print(train_x[0])\n",
    "for i in range(8):    \n",
    "    plt.subplot(1, 8, i + 1)\n",
    "    plt.title(train_y[i])\n",
    "    plt.axis('off')\n",
    "    plt.imshow(train_x[i].reshape(8,8))"
   ]
  },
  {
   "cell_type": "markdown",
   "metadata": {},
   "source": [
    "### Analyze data"
   ]
  },
  {
   "cell_type": "code",
   "execution_count": null,
   "metadata": {},
   "outputs": [],
   "source": []
  },
  {
   "cell_type": "markdown",
   "metadata": {},
   "source": [
    "### Train model"
   ]
  },
  {
   "cell_type": "code",
   "execution_count": 24,
   "metadata": {},
   "outputs": [
    {
     "name": "stdout",
     "output_type": "stream",
     "text": [
      "accuracy_score:  0.9388888888888889\n",
      "classification_report:                precision    recall  f1-score   support\n",
      "\n",
      "           0       0.90      0.96      0.93        27\n",
      "           1       0.82      0.91      0.86        35\n",
      "           2       0.92      0.94      0.93        36\n",
      "           3       0.91      1.00      0.95        29\n",
      "           4       1.00      0.97      0.98        30\n",
      "           5       0.95      0.95      0.95        40\n",
      "           6       1.00      0.93      0.96        44\n",
      "           7       0.95      0.97      0.96        39\n",
      "           8       0.97      0.90      0.93        39\n",
      "           9       0.97      0.88      0.92        41\n",
      "\n",
      "    accuracy                           0.94       360\n",
      "   macro avg       0.94      0.94      0.94       360\n",
      "weighted avg       0.94      0.94      0.94       360\n",
      "\n"
     ]
    }
   ],
   "source": [
    "d_train = xgb.DMatrix(train_x, label=train_y)\n",
    "param = {'max_depth': 10, 'eta': 0.1, 'objective':'multi:softmax', 'num_class': 10}\n",
    "\n",
    "num_round = 10\n",
    "model = xgb.train(param, d_train, num_round)\n",
    "predict_y = model.predict(xgb.DMatrix(test_x, label=None))\n",
    "print('accuracy_score: ' , accuracy_score(test_y, predict_y))    \n",
    "print('classification_report: ' , classification_report(test_y, predict_y))    "
   ]
  },
  {
   "cell_type": "markdown",
   "metadata": {},
   "source": [
    "### Evaluate model"
   ]
  },
  {
   "cell_type": "code",
   "execution_count": 39,
   "metadata": {},
   "outputs": [
    {
     "ename": "AttributeError",
     "evalue": "'Booster' object has no attribute 'feature_importances_'",
     "output_type": "error",
     "traceback": [
      "\u001b[1;31m---------------------------------------------------------------------------\u001b[0m",
      "\u001b[1;31mAttributeError\u001b[0m                            Traceback (most recent call last)",
      "\u001b[1;32mc:\\Users\\miche\\Career\\AI_training_code\\AIProject\\digit_recogonizer_GDBT.ipynb Cell 10\u001b[0m line \u001b[0;36m1\n\u001b[1;32m----> <a href='vscode-notebook-cell:/c%3A/Users/miche/Career/AI_training_code/AIProject/digit_recogonizer_GDBT.ipynb#X16sZmlsZQ%3D%3D?line=0'>1</a>\u001b[0m \u001b[39mprint\u001b[39m(model\u001b[39m.\u001b[39mfeature_importances_)\n\u001b[0;32m      <a href='vscode-notebook-cell:/c%3A/Users/miche/Career/AI_training_code/AIProject/digit_recogonizer_GDBT.ipynb#X16sZmlsZQ%3D%3D?line=1'>2</a>\u001b[0m features \u001b[39m=\u001b[39m \u001b[39msorted\u001b[39m(model\u001b[39m.\u001b[39mget_score(importance_type\u001b[39m=\u001b[39m\u001b[39m'\u001b[39m\u001b[39mweight\u001b[39m\u001b[39m'\u001b[39m)\u001b[39m.\u001b[39mitems(), key\u001b[39m=\u001b[39m\u001b[39mlambda\u001b[39;00m x: x[\u001b[39m1\u001b[39m], reverse\u001b[39m=\u001b[39m\u001b[39mTrue\u001b[39;00m)\n\u001b[0;32m      <a href='vscode-notebook-cell:/c%3A/Users/miche/Career/AI_training_code/AIProject/digit_recogonizer_GDBT.ipynb#X16sZmlsZQ%3D%3D?line=3'>4</a>\u001b[0m \u001b[39mfor\u001b[39;00m i \u001b[39min\u001b[39;00m \u001b[39mrange\u001b[39m(\u001b[39m3\u001b[39m):\n",
      "\u001b[1;31mAttributeError\u001b[0m: 'Booster' object has no attribute 'feature_importances_'"
     ]
    }
   ],
   "source": [
    "features = sorted(model.get_score(importance_type='weight').items(), key=lambda x: x[1], reverse=True)\n",
    "\n",
    "for i in range(3):\n",
    "    xgb.plot_tree(model, num_trees=i)"
   ]
  },
  {
   "cell_type": "markdown",
   "metadata": {},
   "source": [
    "### Predit on test dataset"
   ]
  },
  {
   "cell_type": "code",
   "execution_count": null,
   "metadata": {},
   "outputs": [],
   "source": [
    "\n"
   ]
  },
  {
   "cell_type": "markdown",
   "metadata": {},
   "source": [
    "\n",
    "### Output"
   ]
  },
  {
   "cell_type": "code",
   "execution_count": 1,
   "metadata": {},
   "outputs": [],
   "source": [
    "\n",
    "# df = pd.DataFrame()\n",
    "# df.to_csv('submission.csv',index = False, header=True)"
   ]
  }
 ],
 "metadata": {
  "kernelspec": {
   "display_name": "base",
   "language": "python",
   "name": "python3"
  },
  "language_info": {
   "codemirror_mode": {
    "name": "ipython",
    "version": 3
   },
   "file_extension": ".py",
   "mimetype": "text/x-python",
   "name": "python",
   "nbconvert_exporter": "python",
   "pygments_lexer": "ipython3",
   "version": "3.11.5"
  }
 },
 "nbformat": 4,
 "nbformat_minor": 2
}
