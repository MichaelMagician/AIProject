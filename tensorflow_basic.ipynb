{
 "cells": [
  {
   "cell_type": "markdown",
   "metadata": {},
   "source": [
    "# Title"
   ]
  },
  {
   "cell_type": "code",
   "execution_count": 6,
   "metadata": {},
   "outputs": [
    {
     "name": "stdout",
     "output_type": "stream",
     "text": [
      "2.15.0\n"
     ]
    }
   ],
   "source": [
    "import tensorflow as tf\n",
    "import numpy as np\n",
    "print(tf.__version__)"
   ]
  },
  {
   "cell_type": "code",
   "execution_count": 14,
   "metadata": {},
   "outputs": [
    {
     "name": "stdout",
     "output_type": "stream",
     "text": [
      "a dimention: 2\n",
      "b dimention: 0\n",
      "c dimention: 2\n",
      "c dimention: 3\n"
     ]
    }
   ],
   "source": [
    "a = tf.constant([[1,2],[3,4]])\n",
    "print(f'a dimention: {tf.rank(a)}')\n",
    "\n",
    "b = tf.Variable(3)\n",
    "print(f'b dimention: {tf.rank(b)}')\n",
    "\n",
    "c = tf.constant(np.random.rand(3,2))\n",
    "print(f'c dimention: {tf.rank(c)}')\n",
    "\n",
    "\n",
    "d = tf.constant(np.random.rand(3,3,2))\n",
    "print(f'c dimention: {tf.rank(d)}')"
   ]
  },
  {
   "cell_type": "code",
   "execution_count": 21,
   "metadata": {},
   "outputs": [
    {
     "name": "stdout",
     "output_type": "stream",
     "text": [
      "3\n",
      "147\n",
      "[[ 7 10]\n",
      " [15 22]]\n"
     ]
    }
   ],
   "source": [
    "x = tf.Variable(2)\n",
    "x.assign(3)\n",
    "print(x.numpy())\n",
    "\n",
    "y = tf.Variable(4)\n",
    "f = x * x * y * y + 3\n",
    "print(f.numpy())\n",
    "\n",
    "a1 = tf.matmul(a, a)\n",
    "print(a1.numpy())"
   ]
  },
  {
   "cell_type": "code",
   "execution_count": 26,
   "metadata": {},
   "outputs": [
    {
     "name": "stdout",
     "output_type": "stream",
     "text": [
      "[[ 7  8]\n",
      " [ 9 10]]\n",
      "[[ 1  4]\n",
      " [ 9 16]]\n",
      "[[1.        1.4142135]\n",
      " [1.7320508 2.       ]]\n"
     ]
    }
   ],
   "source": [
    "a2 = a + 6\n",
    "print(a2.numpy())\n",
    "\n",
    "a3 = tf.square(a)\n",
    "print(a3.numpy())\n",
    "\n",
    "a4 = tf.cast(a, tf.float32)\n",
    "a5 = tf.sqrt(a4)\n",
    "print(a5.numpy())"
   ]
  },
  {
   "cell_type": "markdown",
   "metadata": {},
   "source": [
    "### Transform data"
   ]
  },
  {
   "cell_type": "code",
   "execution_count": 30,
   "metadata": {},
   "outputs": [
    {
     "name": "stdout",
     "output_type": "stream",
     "text": [
      "[[1.        1.1892071]\n",
      " [1.316074  1.4142135]]\n"
     ]
    },
    {
     "data": {
      "text/plain": [
       "3"
      ]
     },
     "execution_count": 30,
     "metadata": {},
     "output_type": "execute_result"
    }
   ],
   "source": [
    "a6 = np.sqrt(a4)\n",
    "print (a6)\n",
    "\n",
    "s1 = tf.constant(\"abc\")\n",
    "tf.strings.length(s1).numpy()\n"
   ]
  },
  {
   "cell_type": "markdown",
   "metadata": {},
   "source": [
    "### Gradient"
   ]
  },
  {
   "cell_type": "code",
   "execution_count": 33,
   "metadata": {},
   "outputs": [
    {
     "name": "stdout",
     "output_type": "stream",
     "text": [
      "tf.Tensor(4.0, shape=(), dtype=float32)\n"
     ]
    }
   ],
   "source": [
    "x = tf.Variable(2.0)\n",
    "with tf.GradientTape(persistent=False, watch_accessed_variables=True) as tape:\n",
    "    f = x ** 2\n",
    "    \n",
    "gradient = tape.gradient(f, x)\n",
    "print(gradient)"
   ]
  },
  {
   "cell_type": "code",
   "execution_count": 50,
   "metadata": {},
   "outputs": [
    {
     "name": "stdout",
     "output_type": "stream",
     "text": [
      "tf.Tensor(46.0, shape=(), dtype=float32)\n",
      "None\n"
     ]
    }
   ],
   "source": [
    "x = tf.Variable(4.0)\n",
    "w = tf.Variable(2.0)\n",
    "with tf.GradientTape(persistent=True, watch_accessed_variables=False) as tape:\n",
    "    tape.watch([x, w])\n",
    "    y = x ** 3 - 2* x + 1\n",
    "    f = w ** 2 + 2\n",
    "    \n",
    "g = tape.gradient(y, x)\n",
    "print(g)\n",
    "print(tape.gradient(f,w))"
   ]
  }
 ],
 "metadata": {
  "kernelspec": {
   "display_name": "base",
   "language": "python",
   "name": "python3"
  },
  "language_info": {
   "codemirror_mode": {
    "name": "ipython",
    "version": 3
   },
   "file_extension": ".py",
   "mimetype": "text/x-python",
   "name": "python",
   "nbconvert_exporter": "python",
   "pygments_lexer": "ipython3",
   "version": "3.11.5"
  }
 },
 "nbformat": 4,
 "nbformat_minor": 2
}
