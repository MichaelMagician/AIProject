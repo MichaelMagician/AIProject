{
 "cells": [
  {
   "cell_type": "markdown",
   "metadata": {},
   "source": [
    "# Title"
   ]
  },
  {
   "cell_type": "code",
   "execution_count": 1,
   "metadata": {},
   "outputs": [],
   "source": [
    "import numpy as np\n",
    "import pandas as pd\n",
    "import matplotlib.pyplot as plt\n",
    "from sklearn.model_selection import train_test_split\n",
    "from sklearn.metrics import accuracy_score, confusion_matrix, f1_score"
   ]
  },
  {
   "cell_type": "markdown",
   "metadata": {},
   "source": [
    "### Read data"
   ]
  },
  {
   "cell_type": "code",
   "execution_count": 7,
   "metadata": {},
   "outputs": [
    {
     "name": "stdout",
     "output_type": "stream",
     "text": [
      "        id  member_id  loan_amnt  funded_amnt  funded_amnt_inv        term  \\\n",
      "0  1077501    1296599       5000         5000             4975   36 months   \n",
      "1  1077430    1314167       2500         2500             2500   60 months   \n",
      "\n",
      "   int_rate  installment grade sub_grade  ... sub_grade_num delinq_2yrs_zero  \\\n",
      "0     10.65       162.87     B        B2  ...           0.4                1   \n",
      "1     15.27        59.83     C        C4  ...           0.8                1   \n",
      "\n",
      "  pub_rec_zero  collections_12_mths_zero short_emp payment_inc_ratio  \\\n",
      "0            1                         1         0            8.1435   \n",
      "1            1                         1         1            2.3932   \n",
      "\n",
      "           final_d last_delinq_none last_record_none last_major_derog_none  \n",
      "0  20141201T000000                1                1                     1  \n",
      "1  20161201T000000                1                1                     1  \n",
      "\n",
      "[2 rows x 68 columns]\n",
      "<class 'pandas.core.frame.DataFrame'>\n",
      "RangeIndex: 100 entries, 0 to 99\n",
      "Data columns (total 68 columns):\n",
      " #   Column                       Non-Null Count  Dtype  \n",
      "---  ------                       --------------  -----  \n",
      " 0   id                           100 non-null    int64  \n",
      " 1   member_id                    100 non-null    int64  \n",
      " 2   loan_amnt                    100 non-null    int64  \n",
      " 3   funded_amnt                  100 non-null    int64  \n",
      " 4   funded_amnt_inv              100 non-null    int64  \n",
      " 5   term                         100 non-null    object \n",
      " 6   int_rate                     100 non-null    float64\n",
      " 7   installment                  100 non-null    float64\n",
      " 8   grade                        100 non-null    object \n",
      " 9   sub_grade                    100 non-null    object \n",
      " 10  emp_title                    94 non-null     object \n",
      " 11  emp_length                   100 non-null    object \n",
      " 12  home_ownership               100 non-null    object \n",
      " 13  annual_inc                   100 non-null    int64  \n",
      " 14  is_inc_v                     100 non-null    object \n",
      " 15  issue_d                      100 non-null    object \n",
      " 16  loan_status                  100 non-null    object \n",
      " 17  pymnt_plan                   100 non-null    object \n",
      " 18  url                          100 non-null    object \n",
      " 19  desc                         68 non-null     object \n",
      " 20  purpose                      100 non-null    object \n",
      " 21  title                        100 non-null    object \n",
      " 22  zip_code                     100 non-null    object \n",
      " 23  addr_state                   100 non-null    object \n",
      " 24  dti                          100 non-null    float64\n",
      " 25  delinq_2yrs                  100 non-null    int64  \n",
      " 26  earliest_cr_line             100 non-null    object \n",
      " 27  inq_last_6mths               100 non-null    int64  \n",
      " 28  mths_since_last_delinq       19 non-null     float64\n",
      " 29  mths_since_last_record       4 non-null      float64\n",
      " 30  open_acc                     100 non-null    int64  \n",
      " 31  pub_rec                      100 non-null    int64  \n",
      " 32  revol_bal                    100 non-null    int64  \n",
      " 33  revol_util                   100 non-null    float64\n",
      " 34  total_acc                    100 non-null    int64  \n",
      " 35  initial_list_status          100 non-null    object \n",
      " 36  out_prncp                    100 non-null    float64\n",
      " 37  out_prncp_inv                100 non-null    float64\n",
      " 38  total_pymnt                  100 non-null    float64\n",
      " 39  total_pymnt_inv              100 non-null    float64\n",
      " 40  total_rec_prncp              100 non-null    float64\n",
      " 41  total_rec_int                100 non-null    float64\n",
      " 42  total_rec_late_fee           100 non-null    float64\n",
      " 43  recoveries                   100 non-null    float64\n",
      " 44  collection_recovery_fee      100 non-null    float64\n",
      " 45  last_pymnt_d                 99 non-null     object \n",
      " 46  last_pymnt_amnt              100 non-null    float64\n",
      " 47  next_pymnt_d                 1 non-null      object \n",
      " 48  last_credit_pull_d           100 non-null    object \n",
      " 49  collections_12_mths_ex_med   100 non-null    int64  \n",
      " 50  mths_since_last_major_derog  0 non-null      float64\n",
      " 51  policy_code                  100 non-null    int64  \n",
      " 52  not_compliant                100 non-null    int64  \n",
      " 53  status                       100 non-null    object \n",
      " 54  inactive_loans               100 non-null    int64  \n",
      " 55  bad_loans                    100 non-null    int64  \n",
      " 56  emp_length_num               100 non-null    int64  \n",
      " 57  grade_num                    100 non-null    int64  \n",
      " 58  sub_grade_num                100 non-null    float64\n",
      " 59  delinq_2yrs_zero             100 non-null    int64  \n",
      " 60  pub_rec_zero                 100 non-null    int64  \n",
      " 61  collections_12_mths_zero     100 non-null    int64  \n",
      " 62  short_emp                    100 non-null    int64  \n",
      " 63  payment_inc_ratio            100 non-null    float64\n",
      " 64  final_d                      100 non-null    object \n",
      " 65  last_delinq_none             100 non-null    int64  \n",
      " 66  last_record_none             100 non-null    int64  \n",
      " 67  last_major_derog_none        100 non-null    int64  \n",
      "dtypes: float64(19), int64(26), object(23)\n",
      "memory usage: 53.3+ KB\n"
     ]
    }
   ],
   "source": [
    "data = pd.read_csv('./data/loan_sub/loan_sub.csv', nrows=100)\n",
    "print(data.head(2))\n",
    "# data = data.dropna()\n",
    "data.info()"
   ]
  },
  {
   "cell_type": "markdown",
   "metadata": {},
   "source": [
    "### Analyze data and balance data for training"
   ]
  },
  {
   "cell_type": "code",
   "execution_count": 12,
   "metadata": {},
   "outputs": [
    {
     "name": "stdout",
     "output_type": "stream",
     "text": [
      "safe_loans\n",
      " 1    81\n",
      "-1    19\n",
      "Name: count, dtype: int64\n",
      "percentage: 0.2345679012345679\n",
      "<class 'pandas.core.frame.DataFrame'>\n",
      "Index: 38 entries, 31 to 93\n",
      "Data columns (total 69 columns):\n",
      " #   Column                       Non-Null Count  Dtype  \n",
      "---  ------                       --------------  -----  \n",
      " 0   id                           38 non-null     int64  \n",
      " 1   member_id                    38 non-null     int64  \n",
      " 2   loan_amnt                    38 non-null     int64  \n",
      " 3   funded_amnt                  38 non-null     int64  \n",
      " 4   funded_amnt_inv              38 non-null     int64  \n",
      " 5   term                         38 non-null     object \n",
      " 6   int_rate                     38 non-null     float64\n",
      " 7   installment                  38 non-null     float64\n",
      " 8   grade                        38 non-null     object \n",
      " 9   sub_grade                    38 non-null     object \n",
      " 10  emp_title                    37 non-null     object \n",
      " 11  emp_length                   38 non-null     object \n",
      " 12  home_ownership               38 non-null     object \n",
      " 13  annual_inc                   38 non-null     int64  \n",
      " 14  is_inc_v                     38 non-null     object \n",
      " 15  issue_d                      38 non-null     object \n",
      " 16  loan_status                  38 non-null     object \n",
      " 17  pymnt_plan                   38 non-null     object \n",
      " 18  url                          38 non-null     object \n",
      " 19  desc                         31 non-null     object \n",
      " 20  purpose                      38 non-null     object \n",
      " 21  title                        38 non-null     object \n",
      " 22  zip_code                     38 non-null     object \n",
      " 23  addr_state                   38 non-null     object \n",
      " 24  dti                          38 non-null     float64\n",
      " 25  delinq_2yrs                  38 non-null     int64  \n",
      " 26  earliest_cr_line             38 non-null     object \n",
      " 27  inq_last_6mths               38 non-null     int64  \n",
      " 28  mths_since_last_delinq       8 non-null      float64\n",
      " 29  mths_since_last_record       2 non-null      float64\n",
      " 30  open_acc                     38 non-null     int64  \n",
      " 31  pub_rec                      38 non-null     int64  \n",
      " 32  revol_bal                    38 non-null     int64  \n",
      " 33  revol_util                   38 non-null     float64\n",
      " 34  total_acc                    38 non-null     int64  \n",
      " 35  initial_list_status          38 non-null     object \n",
      " 36  out_prncp                    38 non-null     float64\n",
      " 37  out_prncp_inv                38 non-null     float64\n",
      " 38  total_pymnt                  38 non-null     float64\n",
      " 39  total_pymnt_inv              38 non-null     float64\n",
      " 40  total_rec_prncp              38 non-null     float64\n",
      " 41  total_rec_int                38 non-null     float64\n",
      " 42  total_rec_late_fee           38 non-null     float64\n",
      " 43  recoveries                   38 non-null     float64\n",
      " 44  collection_recovery_fee      38 non-null     float64\n",
      " 45  last_pymnt_d                 37 non-null     object \n",
      " 46  last_pymnt_amnt              38 non-null     float64\n",
      " 47  next_pymnt_d                 1 non-null      object \n",
      " 48  last_credit_pull_d           38 non-null     object \n",
      " 49  collections_12_mths_ex_med   38 non-null     int64  \n",
      " 50  mths_since_last_major_derog  0 non-null      float64\n",
      " 51  policy_code                  38 non-null     int64  \n",
      " 52  not_compliant                38 non-null     int64  \n",
      " 53  status                       38 non-null     object \n",
      " 54  inactive_loans               38 non-null     int64  \n",
      " 55  bad_loans                    38 non-null     int64  \n",
      " 56  emp_length_num               38 non-null     int64  \n",
      " 57  grade_num                    38 non-null     int64  \n",
      " 58  sub_grade_num                38 non-null     float64\n",
      " 59  delinq_2yrs_zero             38 non-null     int64  \n",
      " 60  pub_rec_zero                 38 non-null     int64  \n",
      " 61  collections_12_mths_zero     38 non-null     int64  \n",
      " 62  short_emp                    38 non-null     int64  \n",
      " 63  payment_inc_ratio            38 non-null     float64\n",
      " 64  final_d                      38 non-null     object \n",
      " 65  last_delinq_none             38 non-null     int64  \n",
      " 66  last_record_none             38 non-null     int64  \n",
      " 67  last_major_derog_none        38 non-null     int64  \n",
      " 68  safe_loans                   38 non-null     int64  \n",
      "dtypes: float64(19), int64(27), object(23)\n",
      "memory usage: 20.8+ KB\n"
     ]
    }
   ],
   "source": [
    "\n",
    "data['safe_loans'] = data['bad_loans'].apply(lambda x: -1 if x == 1 else +1)\n",
    "good_bad_loan_counts = data['safe_loans'].value_counts()\n",
    "print(good_bad_loan_counts)\n",
    "percentage = good_bad_loan_counts[-1] / good_bad_loan_counts[1] \n",
    "print(f'percentage: {percentage}')\n",
    "good_loans = data[data['safe_loans'] == 1].sample(frac=percentage, random_state=0)\n",
    "bad_loans =  data[data['safe_loans'] == -1]\n",
    "dataset = pd.concat([good_loans, bad_loans], axis=0)\n",
    "dataset['safe_loans'].value_counts()\n",
    "dataset.info()"
   ]
  },
  {
   "cell_type": "markdown",
   "metadata": {},
   "source": [
    "### Process data\n"
   ]
  },
  {
   "cell_type": "code",
   "execution_count": 13,
   "metadata": {},
   "outputs": [],
   "source": [
    "def generate_dummy_columns(data: pd.DataFrame, columns : list) -> pd.DataFrame :\n",
    "    data = data.dropna()\n",
    "    for col in columns:        \n",
    "        new_column_suffix = data[col].apply(lambda x: str(x)).unique()\n",
    "        new_cols = [ col + '_' + suffix for suffix in new_column_suffix ]\n",
    "        new_data =pd.get_dummies(data[col], prefix=col)[new_cols]\n",
    "        data = pd.concat([data, new_data], axis=1) \n",
    "        del data[col]\n",
    "    return data"
   ]
  },
  {
   "cell_type": "code",
   "execution_count": 17,
   "metadata": {},
   "outputs": [
    {
     "name": "stdout",
     "output_type": "stream",
     "text": [
      "<class 'pandas.core.frame.DataFrame'>\n",
      "Index: 38 entries, 31 to 93\n",
      "Data columns (total 24 columns):\n",
      " #   Column                   Non-Null Count  Dtype\n",
      "---  ------                   --------------  -----\n",
      " 0   grade_B                  38 non-null     bool \n",
      " 1   grade_A                  38 non-null     bool \n",
      " 2   grade_E                  38 non-null     bool \n",
      " 3   grade_F                  38 non-null     bool \n",
      " 4   grade_C                  38 non-null     bool \n",
      " 5   grade_D                  38 non-null     bool \n",
      " 6   term_ 36 months          38 non-null     bool \n",
      " 7   term_ 60 months          38 non-null     bool \n",
      " 8   home_ownership_RENT      38 non-null     bool \n",
      " 9   home_ownership_OWN       38 non-null     bool \n",
      " 10  home_ownership_MORTGAGE  38 non-null     bool \n",
      " 11  emp_length_10+ years     38 non-null     bool \n",
      " 12  emp_length_2 years       38 non-null     bool \n",
      " 13  emp_length_7 years       38 non-null     bool \n",
      " 14  emp_length_< 1 year      38 non-null     bool \n",
      " 15  emp_length_4 years       38 non-null     bool \n",
      " 16  emp_length_1 year        38 non-null     bool \n",
      " 17  emp_length_6 years       38 non-null     bool \n",
      " 18  emp_length_3 years       38 non-null     bool \n",
      " 19  emp_length_9 years       38 non-null     bool \n",
      " 20  emp_length_8 years       38 non-null     bool \n",
      " 21  emp_length_5 years       38 non-null     bool \n",
      " 22  bad_loans_0              38 non-null     bool \n",
      " 23  bad_loans_1              38 non-null     bool \n",
      "dtypes: bool(24)\n",
      "memory usage: 1.2 KB\n"
     ]
    },
    {
     "data": {
      "text/plain": [
       "Index(['grade_B', 'grade_A', 'grade_E', 'grade_F', 'grade_C', 'grade_D',\n",
       "       'term_ 36 months', 'term_ 60 months', 'home_ownership_RENT',\n",
       "       'home_ownership_OWN', 'home_ownership_MORTGAGE', 'emp_length_10+ years',\n",
       "       'emp_length_2 years', 'emp_length_7 years', 'emp_length_< 1 year',\n",
       "       'emp_length_4 years', 'emp_length_1 year', 'emp_length_6 years',\n",
       "       'emp_length_3 years', 'emp_length_9 years', 'emp_length_8 years',\n",
       "       'emp_length_5 years', 'bad_loans_0', 'bad_loans_1'],\n",
       "      dtype='object')"
      ]
     },
     "execution_count": 17,
     "metadata": {},
     "output_type": "execute_result"
    }
   ],
   "source": [
    "# balance dataset for training, normalize data and dumminize variables\n",
    "cols = ['grade', 'term','home_ownership', 'emp_length','bad_loans']\n",
    "dataset = dataset[cols]\n",
    "# dataset.info()\n",
    "dataset_2 = generate_dummy_columns(dataset, cols)\n",
    "dataset_2.info()\n"
   ]
  },
  {
   "cell_type": "markdown",
   "metadata": {},
   "source": [
    "### Build Model"
   ]
  },
  {
   "cell_type": "code",
   "execution_count": 18,
   "metadata": {},
   "outputs": [
    {
     "ename": "NameError",
     "evalue": "name 'TreeNode' is not defined",
     "output_type": "error",
     "traceback": [
      "\u001b[1;31m---------------------------------------------------------------------------\u001b[0m",
      "\u001b[1;31mNameError\u001b[0m                                 Traceback (most recent call last)",
      "\u001b[1;32mc:\\Users\\Michael\\Career\\Interview\\jiuzhang\\AIProject\\decision_tree_loan.ipynb Cell 11\u001b[0m line \u001b[0;36m1\n\u001b[0;32m      <a href='vscode-notebook-cell:/c%3A/Users/Michael/Career/Interview/jiuzhang/AIProject/decision_tree_loan.ipynb#X13sZmlsZQ%3D%3D?line=0'>1</a>\u001b[0m \u001b[39m# fit()\u001b[39;00m\n\u001b[0;32m      <a href='vscode-notebook-cell:/c%3A/Users/Michael/Career/Interview/jiuzhang/AIProject/decision_tree_loan.ipynb#X13sZmlsZQ%3D%3D?line=1'>2</a>\u001b[0m \u001b[39m# predict()\u001b[39;00m\n\u001b[0;32m      <a href='vscode-notebook-cell:/c%3A/Users/Michael/Career/Interview/jiuzhang/AIProject/decision_tree_loan.ipynb#X13sZmlsZQ%3D%3D?line=2'>3</a>\u001b[0m     \u001b[39m# dfs visit from the root feature and use the leaf node for prediction \u001b[39;00m\n\u001b[1;32m   (...)\u001b[0m\n\u001b[0;32m      <a href='vscode-notebook-cell:/c%3A/Users/Michael/Career/Interview/jiuzhang/AIProject/decision_tree_loan.ipynb#X13sZmlsZQ%3D%3D?line=6'>7</a>\u001b[0m     \u001b[39m# split and build left/right tree\u001b[39;00m\n\u001b[0;32m      <a href='vscode-notebook-cell:/c%3A/Users/Michael/Career/Interview/jiuzhang/AIProject/decision_tree_loan.ipynb#X13sZmlsZQ%3D%3D?line=7'>8</a>\u001b[0m \u001b[39m# _get_best_features\u001b[39;00m\n\u001b[1;32m---> <a href='vscode-notebook-cell:/c%3A/Users/Michael/Career/Interview/jiuzhang/AIProject/decision_tree_loan.ipynb#X13sZmlsZQ%3D%3D?line=9'>10</a>\u001b[0m \u001b[39mclass\u001b[39;00m \u001b[39mTreeNode\u001b[39;00m:\n\u001b[0;32m     <a href='vscode-notebook-cell:/c%3A/Users/Michael/Career/Interview/jiuzhang/AIProject/decision_tree_loan.ipynb#X13sZmlsZQ%3D%3D?line=10'>11</a>\u001b[0m     \u001b[39mdef\u001b[39;00m \u001b[39m__init__\u001b[39m(\u001b[39mself\u001b[39m, feature_name:\u001b[39mstr\u001b[39m, left: TreeNode, right: TreeNode) \u001b[39m-\u001b[39m\u001b[39m>\u001b[39m \u001b[39mNone\u001b[39;00m:\n\u001b[0;32m     <a href='vscode-notebook-cell:/c%3A/Users/Michael/Career/Interview/jiuzhang/AIProject/decision_tree_loan.ipynb#X13sZmlsZQ%3D%3D?line=11'>12</a>\u001b[0m         \u001b[39mpass\u001b[39;00m\n",
      "\u001b[1;32mc:\\Users\\Michael\\Career\\Interview\\jiuzhang\\AIProject\\decision_tree_loan.ipynb Cell 11\u001b[0m line \u001b[0;36m1\n\u001b[0;32m     <a href='vscode-notebook-cell:/c%3A/Users/Michael/Career/Interview/jiuzhang/AIProject/decision_tree_loan.ipynb#X13sZmlsZQ%3D%3D?line=9'>10</a>\u001b[0m \u001b[39mclass\u001b[39;00m \u001b[39mTreeNode\u001b[39;00m:\n\u001b[1;32m---> <a href='vscode-notebook-cell:/c%3A/Users/Michael/Career/Interview/jiuzhang/AIProject/decision_tree_loan.ipynb#X13sZmlsZQ%3D%3D?line=10'>11</a>\u001b[0m     \u001b[39mdef\u001b[39;00m \u001b[39m__init__\u001b[39m(\u001b[39mself\u001b[39m, feature_name:\u001b[39mstr\u001b[39m, left: TreeNode, right: TreeNode) \u001b[39m-\u001b[39m\u001b[39m>\u001b[39m \u001b[39mNone\u001b[39;00m:\n\u001b[0;32m     <a href='vscode-notebook-cell:/c%3A/Users/Michael/Career/Interview/jiuzhang/AIProject/decision_tree_loan.ipynb#X13sZmlsZQ%3D%3D?line=11'>12</a>\u001b[0m         \u001b[39mpass\u001b[39;00m\n",
      "\u001b[1;31mNameError\u001b[0m: name 'TreeNode' is not defined"
     ]
    }
   ],
   "source": [
    "# fit()\n",
    "# predict()\n",
    "    # dfs visit from the root feature and use the leaf node for prediction \n",
    "# _create_tree()\n",
    "    # termniation. max_depth, no more split or good enough, reaching leaf\n",
    "    # find the best feature\n",
    "    # split and build left/right tree\n",
    "# _get_best_features\n",
    "\n",
    "class TreeNode:\n",
    "    def __init__(self, feature_name:str) -> None:\n",
    "        pass\n",
    "\n",
    "class LoanDecisionTree:\n",
    "    def __init__(self, min_error = 2, max_depth = 3) -> None:\n",
    "        self.min_error = min_error\n",
    "        self.max_depth = max_depth\n",
    "    \n",
    "    def fit(self, X : pd.DataFrame, Y : pd.Series):\n",
    "        data = pd.concat([X, Y], axis=1)\n",
    "        self.root = self._create_tree(data, X.columns, 0)\n",
    "        self.label_column = Y.column[0]\n",
    "    \n",
    "    def predict(self, X):\n",
    "        pass\n",
    "    \n",
    "    def _create_tree(self, data : pd.DataFrame, remaining_features: list, depth: int) -> TreeNode:\n",
    "        if depth == self.max_depth or len(remaining_features) == 0 :\n",
    "            return self._create_leaf(data)\n",
    "        \n",
    "        # current node\n",
    "        best_feature = self._get_best_feature(remaining_features)\n",
    "        node = TreeNode(best_feature)\n",
    "        \n",
    "        # build left/right node\n",
    "        left_split_data = data[data[best_feature] == 0]\n",
    "        right_split_data = data[data[best_feature] == 1]\n",
    "        \n",
    "        new_remaining_features = remaining_features.drop(best_feature)\n",
    "        left_node = self._create_tree(left_split_data, new_remaining_features, depth + 1)\n",
    "        right_node = self._create_tree(right_split_data, new_remaining_features, depth + 1)\n",
    "        \n",
    "        node.left = left_node\n",
    "        node.right = right_node\n",
    "        \n",
    "        return node        \n",
    "        \n",
    "    def _create_leaf(data: pd.DataFrame):\n",
    "        pass\n",
    "    \n",
    "    def _get_best_feature(remaining_features: list) -> str:\n",
    "        pass"
   ]
  },
  {
   "cell_type": "markdown",
   "metadata": {},
   "source": [
    "### Train model"
   ]
  },
  {
   "cell_type": "code",
   "execution_count": null,
   "metadata": {},
   "outputs": [],
   "source": []
  },
  {
   "cell_type": "markdown",
   "metadata": {},
   "source": [
    "### Evaluate model"
   ]
  },
  {
   "cell_type": "code",
   "execution_count": null,
   "metadata": {},
   "outputs": [],
   "source": []
  },
  {
   "cell_type": "markdown",
   "metadata": {},
   "source": [
    "### Predit on test dataset"
   ]
  },
  {
   "cell_type": "code",
   "execution_count": null,
   "metadata": {},
   "outputs": [],
   "source": [
    "\n"
   ]
  },
  {
   "cell_type": "markdown",
   "metadata": {},
   "source": [
    "\n",
    "### Output"
   ]
  },
  {
   "cell_type": "code",
   "execution_count": null,
   "metadata": {},
   "outputs": [],
   "source": [
    "\n",
    "# df = pd.DataFrame()\n",
    "# df.to_csv('submission.csv',index = False, header=True)"
   ]
  }
 ],
 "metadata": {
  "kernelspec": {
   "display_name": "base",
   "language": "python",
   "name": "python3"
  },
  "language_info": {
   "codemirror_mode": {
    "name": "ipython",
    "version": 3
   },
   "file_extension": ".py",
   "mimetype": "text/x-python",
   "name": "python",
   "nbconvert_exporter": "python",
   "pygments_lexer": "ipython3",
   "version": "3.11.5"
  }
 },
 "nbformat": 4,
 "nbformat_minor": 2
}
