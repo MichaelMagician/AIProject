{
 "cells": [
  {
   "cell_type": "markdown",
   "metadata": {},
   "source": [
    "# Poisonous Mushroom \n",
    "    - using fake random forest "
   ]
  },
  {
   "cell_type": "code",
   "execution_count": 1,
   "metadata": {},
   "outputs": [],
   "source": [
    "# data: https://www.kaggle.com/datasets/uciml/mushroom-classification/data\n",
    "import numpy as np\n",
    "import pandas as pd\n",
    "import matplotlib.pyplot as plt\n",
    "from sklearn.model_selection import train_test_split\n",
    "from sklearn.metrics import accuracy_score, confusion_matrix, f1_score\n",
    "from sklearn.ensemble import RandomForestClassifier\n",
    "from sklearn.linear_model import LogisticRegression\n",
    "from sklearn.tree import DecisionTreeClassifier\n",
    "from sklearn.model_selection import cross_val_score\n",
    "from sklearn.base import BaseEstimator\n"
   ]
  },
  {
   "cell_type": "markdown",
   "metadata": {},
   "source": [
    "### Read data"
   ]
  },
  {
   "cell_type": "code",
   "execution_count": 2,
   "metadata": {},
   "outputs": [
    {
     "name": "stdout",
     "output_type": "stream",
     "text": [
      "  class cap-shape cap-surface cap-color bruises odor gill-attachment  \\\n",
      "0     p         x           s         n       t    p               f   \n",
      "1     e         x           s         y       t    a               f   \n",
      "\n",
      "  gill-spacing gill-size gill-color  ... stalk-surface-below-ring  \\\n",
      "0            c         n          k  ...                        s   \n",
      "1            c         b          k  ...                        s   \n",
      "\n",
      "  stalk-color-above-ring stalk-color-below-ring veil-type veil-color  \\\n",
      "0                      w                      w         p          w   \n",
      "1                      w                      w         p          w   \n",
      "\n",
      "  ring-number ring-type spore-print-color population habitat  \n",
      "0           o         p                 k          s       u  \n",
      "1           o         p                 n          n       g  \n",
      "\n",
      "[2 rows x 23 columns]\n"
     ]
    }
   ],
   "source": [
    "data = pd.read_csv('./data/mushrooms.csv')\n",
    "print(data.head(2))"
   ]
  },
  {
   "cell_type": "markdown",
   "metadata": {},
   "source": [
    "### Transform data"
   ]
  },
  {
   "cell_type": "code",
   "execution_count": 3,
   "metadata": {},
   "outputs": [],
   "source": [
    "def generate_dummy_columns(data: pd.DataFrame, columns : list) -> pd.DataFrame :\n",
    "    # data = data.dropna()\n",
    "    for col in columns:        \n",
    "        new_column_suffix = data[col].apply(lambda x: str(x)).unique()\n",
    "        new_cols = [ col + '_' + suffix for suffix in new_column_suffix ]\n",
    "        new_data =pd.get_dummies(data[col], prefix=col)[new_cols]\n",
    "        data = pd.concat([data, new_data], axis=1) \n",
    "        del data[col]\n",
    "    return data"
   ]
  },
  {
   "cell_type": "code",
   "execution_count": 4,
   "metadata": {},
   "outputs": [
    {
     "name": "stdout",
     "output_type": "stream",
     "text": [
      "Index(['cap-shape_x', 'cap-shape_b', 'cap-shape_s', 'cap-shape_f',\n",
      "       'cap-shape_k', 'cap-shape_c', 'cap-surface_s', 'cap-surface_y',\n",
      "       'cap-surface_f', 'cap-surface_g',\n",
      "       ...\n",
      "       'population_v', 'population_y', 'population_c', 'habitat_u',\n",
      "       'habitat_g', 'habitat_m', 'habitat_d', 'habitat_p', 'habitat_w',\n",
      "       'habitat_l'],\n",
      "      dtype='object', length=117)\n",
      "   cap-shape_x  cap-shape_b  cap-shape_s  cap-shape_f  cap-shape_k  \\\n",
      "0         True        False        False        False        False   \n",
      "1         True        False        False        False        False   \n",
      "\n",
      "   cap-shape_c  cap-surface_s  cap-surface_y  cap-surface_f  cap-surface_g  \\\n",
      "0        False           True          False          False          False   \n",
      "1        False           True          False          False          False   \n",
      "\n",
      "   ...  population_v  population_y  population_c  habitat_u  habitat_g  \\\n",
      "0  ...         False         False         False       True      False   \n",
      "1  ...         False         False         False      False       True   \n",
      "\n",
      "   habitat_m  habitat_d  habitat_p  habitat_w  habitat_l  \n",
      "0      False      False      False      False      False  \n",
      "1      False      False      False      False      False  \n",
      "\n",
      "[2 rows x 117 columns]\n"
     ]
    }
   ],
   "source": [
    "# fill missing and prepare dummy valiables\n",
    "# print(len(data))\n",
    "data.fillna('missing', inplace=True)\n",
    "data_x = data.iloc[:,1:]\n",
    "X = generate_dummy_columns(data_x, data_x.columns)\n",
    "Y = data['class'].apply(lambda x: +1 if x == 'p' else -1)\n",
    "\n",
    "print(X.columns)\n",
    "print(X.head(2))\n",
    "\n",
    "\n",
    "\n"
   ]
  },
  {
   "cell_type": "markdown",
   "metadata": {},
   "source": [
    "### Compare sk learn models"
   ]
  },
  {
   "cell_type": "code",
   "execution_count": 5,
   "metadata": {},
   "outputs": [
    {
     "name": "stdout",
     "output_type": "stream",
     "text": [
      "LogisticRegression 0.9260029188161825\n",
      "DecisionTreeClassifier 0.9308194503704279\n",
      "RandomForestClassifier 0.9542182227221597\n"
     ]
    }
   ],
   "source": [
    "models = [LogisticRegression(), DecisionTreeClassifier(), RandomForestClassifier(n_estimators=10)]\n",
    "\n",
    "for model in models:\n",
    "    score = cross_val_score(model,X,Y, cv=8)\n",
    "    print(model.__class__.__name__, score.mean())"
   ]
  },
  {
   "cell_type": "markdown",
   "metadata": {},
   "source": [
    "### Build fake random forest\n"
   ]
  },
  {
   "cell_type": "code",
   "execution_count": 26,
   "metadata": {},
   "outputs": [],
   "source": [
    "class FakeRanndomForest(BaseEstimator):\n",
    "    def __init__(self, M = 10):\n",
    "        self.M = M\n",
    "        self.models = []\n",
    "        self.features = []\n",
    "\n",
    "    def fit(self, X, Y, n_features=None):\n",
    "        if n_features is None:\n",
    "            n_features = int(np.sqrt(X.shape[1]))\n",
    "        N = len(X)\n",
    "\n",
    "        for i in range(self.M):\n",
    "            model = DecisionTreeClassifier(max_depth=10)\n",
    "\n",
    "            # select features randomly\n",
    "            selected_features_indexes = np.random.choice(X.shape[1], n_features, replace=False)            \n",
    "            selected_sample_indexes = np.random.choice(N, N, replace=False)\n",
    "            train_x = X.iloc[selected_sample_indexes, selected_features_indexes]\n",
    "            train_y = Y.iloc[selected_sample_indexes]\n",
    "\n",
    "            model.fit(train_x, train_y)\n",
    "            self.models.append(model)\n",
    "            self.features.append(selected_features_indexes)\n",
    "        \n",
    "    def predict(self, X):\n",
    "        predictions = np.zeros(len(X))\n",
    "        for i, model in enumerate(self.models):\n",
    "            x_p = X.iloc[:, self.features[i]]\n",
    "            predictions += model.predict(x_p)\n",
    "        return np.sign(predictions/self.M)\n",
    "    \n",
    "    def score(self, X, y):\n",
    "        return accuracy_score(y, self.predict(X))"
   ]
  },
  {
   "cell_type": "code",
   "execution_count": 27,
   "metadata": {},
   "outputs": [],
   "source": [
    "class BaggedTree(BaseEstimator):\n",
    "    def __init__(self, M): \n",
    "        self.M = M  \n",
    "        self.models = []\n",
    "\n",
    "    def fit(self, X, Y):\n",
    "        N = len(X)\n",
    "        \n",
    "        for i in range(self.M):\n",
    "            indexes = np.random.choice(N, size=N, replace=True)  \n",
    "            X_train = X.iloc[indexes,:]\n",
    "            Y_train = Y.iloc[indexes]  \n",
    "            model = DecisionTreeClassifier(max_depth=2)\n",
    "            model.fit(X_train, Y_train)\n",
    "            self.models.append(model)\n",
    "\n",
    "    def predict(self, X):\n",
    "        predictions = np.zeros(len(X))\n",
    "        for i, model in enumerate(self.models):\n",
    "            predictions += model.predict(X)\n",
    "        return np.round(predictions/self.M)\n",
    "    \n",
    "    def score(self, X, Y):\n",
    "        y_pred = self.predict(X)\n",
    "        return accuracy_score(Y, y_pred)      \n",
    "    \n",
    "model = BaggedTree(10)\n",
    "model.fit(X, Y)\n",
    "y_pred = model.predict(X)"
   ]
  },
  {
   "cell_type": "markdown",
   "metadata": {},
   "source": [
    "### Evaluate model"
   ]
  },
  {
   "cell_type": "code",
   "execution_count": 28,
   "metadata": {},
   "outputs": [
    {
     "name": "stdout",
     "output_type": "stream",
     "text": [
      "BaggedTree 0.8892171344165436\n",
      "FakeRanndomForest 0.9236829148202855\n"
     ]
    }
   ],
   "source": [
    "models = [BaggedTree(M=100), FakeRanndomForest(M=100) ]\n",
    "\n",
    "for model in models:\n",
    "    # model.fit(X, Y)\n",
    "    # r = model.predict(X)\n",
    "    score = cross_val_score(model,X,Y, cv=4)\n",
    "    print(model.__class__.__name__, score.mean())    "
   ]
  },
  {
   "cell_type": "markdown",
   "metadata": {},
   "source": [
    "### Predit on test dataset"
   ]
  },
  {
   "cell_type": "code",
   "execution_count": null,
   "metadata": {},
   "outputs": [],
   "source": [
    "\n"
   ]
  },
  {
   "cell_type": "markdown",
   "metadata": {},
   "source": [
    "\n",
    "### Output"
   ]
  },
  {
   "cell_type": "code",
   "execution_count": 7,
   "metadata": {},
   "outputs": [],
   "source": [
    "\n",
    "# df = pd.DataFrame()\n",
    "# df.to_csv('submission.csv',index = False, header=True)"
   ]
  }
 ],
 "metadata": {
  "kernelspec": {
   "display_name": "base",
   "language": "python",
   "name": "python3"
  },
  "language_info": {
   "codemirror_mode": {
    "name": "ipython",
    "version": 3
   },
   "file_extension": ".py",
   "mimetype": "text/x-python",
   "name": "python",
   "nbconvert_exporter": "python",
   "pygments_lexer": "ipython3",
   "version": "3.11.5"
  }
 },
 "nbformat": 4,
 "nbformat_minor": 2
}
