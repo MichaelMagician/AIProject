{
 "cells": [
  {
   "cell_type": "markdown",
   "metadata": {},
   "source": [
    "# Titanic Anaylsis with Logistic Regression"
   ]
  },
  {
   "cell_type": "code",
   "execution_count": 120,
   "metadata": {},
   "outputs": [],
   "source": [
    "\n",
    "import numpy as np\n",
    "import pandas as pd\n",
    "import matplotlib.pyplot as plt\n",
    "\n",
    "from patsy import dmatrices\n",
    "from sklearn.linear_model import LogisticRegression\n",
    "from sklearn.model_selection import train_test_split\n",
    "from sklearn.metrics import accuracy_score, confusion_matrix, f1_score, recall_score, precision_recall_curve\n"
   ]
  },
  {
   "cell_type": "markdown",
   "metadata": {},
   "source": [
    "### Read data"
   ]
  },
  {
   "cell_type": "code",
   "execution_count": 72,
   "metadata": {},
   "outputs": [
    {
     "name": "stdout",
     "output_type": "stream",
     "text": [
      "   PassengerId  Survived  Pclass  \\\n",
      "0            1         0       3   \n",
      "1            2         1       1   \n",
      "\n",
      "                                                Name     Sex   Age  SibSp  \\\n",
      "0                            Braund, Mr. Owen Harris    male  22.0      1   \n",
      "1  Cumings, Mrs. John Bradley (Florence Briggs Th...  female  38.0      1   \n",
      "\n",
      "   Parch     Ticket     Fare Cabin Embarked  \n",
      "0      0  A/5 21171   7.2500   NaN        S  \n",
      "1      0   PC 17599  71.2833   C85        C  \n"
     ]
    }
   ],
   "source": [
    "train_data = pd.read_csv('./data/titanic/train.csv')\n",
    "test_data = pd.read_csv('./data/titanic/test.csv')\n",
    "print(train_data.head(2))\n",
    "# print(test_data.head(2))"
   ]
  },
  {
   "cell_type": "code",
   "execution_count": 73,
   "metadata": {},
   "outputs": [
    {
     "data": {
      "text/html": [
       "<div>\n",
       "<style scoped>\n",
       "    .dataframe tbody tr th:only-of-type {\n",
       "        vertical-align: middle;\n",
       "    }\n",
       "\n",
       "    .dataframe tbody tr th {\n",
       "        vertical-align: top;\n",
       "    }\n",
       "\n",
       "    .dataframe thead th {\n",
       "        text-align: right;\n",
       "    }\n",
       "</style>\n",
       "<table border=\"1\" class=\"dataframe\">\n",
       "  <thead>\n",
       "    <tr style=\"text-align: right;\">\n",
       "      <th></th>\n",
       "      <th>PassengerId</th>\n",
       "      <th>Pclass</th>\n",
       "      <th>Name</th>\n",
       "      <th>Sex</th>\n",
       "      <th>Age</th>\n",
       "      <th>SibSp</th>\n",
       "      <th>Parch</th>\n",
       "      <th>Ticket</th>\n",
       "      <th>Fare</th>\n",
       "      <th>Cabin</th>\n",
       "      <th>Embarked</th>\n",
       "    </tr>\n",
       "  </thead>\n",
       "  <tbody>\n",
       "    <tr>\n",
       "      <th>12</th>\n",
       "      <td>904</td>\n",
       "      <td>1</td>\n",
       "      <td>Snyder, Mrs. John Pillsbury (Nelle Stevenson)</td>\n",
       "      <td>female</td>\n",
       "      <td>23.0</td>\n",
       "      <td>1</td>\n",
       "      <td>0</td>\n",
       "      <td>21228</td>\n",
       "      <td>82.2667</td>\n",
       "      <td>B45</td>\n",
       "      <td>S</td>\n",
       "    </tr>\n",
       "    <tr>\n",
       "      <th>14</th>\n",
       "      <td>906</td>\n",
       "      <td>1</td>\n",
       "      <td>Chaffee, Mrs. Herbert Fuller (Carrie Constance...</td>\n",
       "      <td>female</td>\n",
       "      <td>47.0</td>\n",
       "      <td>1</td>\n",
       "      <td>0</td>\n",
       "      <td>W.E.P. 5734</td>\n",
       "      <td>61.1750</td>\n",
       "      <td>E31</td>\n",
       "      <td>S</td>\n",
       "    </tr>\n",
       "    <tr>\n",
       "      <th>24</th>\n",
       "      <td>916</td>\n",
       "      <td>1</td>\n",
       "      <td>Ryerson, Mrs. Arthur Larned (Emily Maria Borie)</td>\n",
       "      <td>female</td>\n",
       "      <td>48.0</td>\n",
       "      <td>1</td>\n",
       "      <td>3</td>\n",
       "      <td>PC 17608</td>\n",
       "      <td>262.3750</td>\n",
       "      <td>B57 B59 B63 B66</td>\n",
       "      <td>C</td>\n",
       "    </tr>\n",
       "    <tr>\n",
       "      <th>26</th>\n",
       "      <td>918</td>\n",
       "      <td>1</td>\n",
       "      <td>Ostby, Miss. Helene Ragnhild</td>\n",
       "      <td>female</td>\n",
       "      <td>22.0</td>\n",
       "      <td>0</td>\n",
       "      <td>1</td>\n",
       "      <td>113509</td>\n",
       "      <td>61.9792</td>\n",
       "      <td>B36</td>\n",
       "      <td>C</td>\n",
       "    </tr>\n",
       "    <tr>\n",
       "      <th>28</th>\n",
       "      <td>920</td>\n",
       "      <td>1</td>\n",
       "      <td>Brady, Mr. John Bertram</td>\n",
       "      <td>male</td>\n",
       "      <td>41.0</td>\n",
       "      <td>0</td>\n",
       "      <td>0</td>\n",
       "      <td>113054</td>\n",
       "      <td>30.5000</td>\n",
       "      <td>A21</td>\n",
       "      <td>S</td>\n",
       "    </tr>\n",
       "    <tr>\n",
       "      <th>...</th>\n",
       "      <td>...</td>\n",
       "      <td>...</td>\n",
       "      <td>...</td>\n",
       "      <td>...</td>\n",
       "      <td>...</td>\n",
       "      <td>...</td>\n",
       "      <td>...</td>\n",
       "      <td>...</td>\n",
       "      <td>...</td>\n",
       "      <td>...</td>\n",
       "      <td>...</td>\n",
       "    </tr>\n",
       "    <tr>\n",
       "      <th>404</th>\n",
       "      <td>1296</td>\n",
       "      <td>1</td>\n",
       "      <td>Frauenthal, Mr. Isaac Gerald</td>\n",
       "      <td>male</td>\n",
       "      <td>43.0</td>\n",
       "      <td>1</td>\n",
       "      <td>0</td>\n",
       "      <td>17765</td>\n",
       "      <td>27.7208</td>\n",
       "      <td>D40</td>\n",
       "      <td>C</td>\n",
       "    </tr>\n",
       "    <tr>\n",
       "      <th>405</th>\n",
       "      <td>1297</td>\n",
       "      <td>2</td>\n",
       "      <td>Nourney, Mr. Alfred (Baron von Drachstedt\")\"</td>\n",
       "      <td>male</td>\n",
       "      <td>20.0</td>\n",
       "      <td>0</td>\n",
       "      <td>0</td>\n",
       "      <td>SC/PARIS 2166</td>\n",
       "      <td>13.8625</td>\n",
       "      <td>D38</td>\n",
       "      <td>C</td>\n",
       "    </tr>\n",
       "    <tr>\n",
       "      <th>407</th>\n",
       "      <td>1299</td>\n",
       "      <td>1</td>\n",
       "      <td>Widener, Mr. George Dunton</td>\n",
       "      <td>male</td>\n",
       "      <td>50.0</td>\n",
       "      <td>1</td>\n",
       "      <td>1</td>\n",
       "      <td>113503</td>\n",
       "      <td>211.5000</td>\n",
       "      <td>C80</td>\n",
       "      <td>C</td>\n",
       "    </tr>\n",
       "    <tr>\n",
       "      <th>411</th>\n",
       "      <td>1303</td>\n",
       "      <td>1</td>\n",
       "      <td>Minahan, Mrs. William Edward (Lillian E Thorpe)</td>\n",
       "      <td>female</td>\n",
       "      <td>37.0</td>\n",
       "      <td>1</td>\n",
       "      <td>0</td>\n",
       "      <td>19928</td>\n",
       "      <td>90.0000</td>\n",
       "      <td>C78</td>\n",
       "      <td>Q</td>\n",
       "    </tr>\n",
       "    <tr>\n",
       "      <th>414</th>\n",
       "      <td>1306</td>\n",
       "      <td>1</td>\n",
       "      <td>Oliva y Ocana, Dona. Fermina</td>\n",
       "      <td>female</td>\n",
       "      <td>39.0</td>\n",
       "      <td>0</td>\n",
       "      <td>0</td>\n",
       "      <td>PC 17758</td>\n",
       "      <td>108.9000</td>\n",
       "      <td>C105</td>\n",
       "      <td>C</td>\n",
       "    </tr>\n",
       "  </tbody>\n",
       "</table>\n",
       "<p>87 rows × 11 columns</p>\n",
       "</div>"
      ],
      "text/plain": [
       "     PassengerId  Pclass                                               Name  \\\n",
       "12           904       1      Snyder, Mrs. John Pillsbury (Nelle Stevenson)   \n",
       "14           906       1  Chaffee, Mrs. Herbert Fuller (Carrie Constance...   \n",
       "24           916       1    Ryerson, Mrs. Arthur Larned (Emily Maria Borie)   \n",
       "26           918       1                       Ostby, Miss. Helene Ragnhild   \n",
       "28           920       1                            Brady, Mr. John Bertram   \n",
       "..           ...     ...                                                ...   \n",
       "404         1296       1                       Frauenthal, Mr. Isaac Gerald   \n",
       "405         1297       2       Nourney, Mr. Alfred (Baron von Drachstedt\")\"   \n",
       "407         1299       1                         Widener, Mr. George Dunton   \n",
       "411         1303       1    Minahan, Mrs. William Edward (Lillian E Thorpe)   \n",
       "414         1306       1                       Oliva y Ocana, Dona. Fermina   \n",
       "\n",
       "        Sex   Age  SibSp  Parch         Ticket      Fare            Cabin  \\\n",
       "12   female  23.0      1      0          21228   82.2667              B45   \n",
       "14   female  47.0      1      0    W.E.P. 5734   61.1750              E31   \n",
       "24   female  48.0      1      3       PC 17608  262.3750  B57 B59 B63 B66   \n",
       "26   female  22.0      0      1         113509   61.9792              B36   \n",
       "28     male  41.0      0      0         113054   30.5000              A21   \n",
       "..      ...   ...    ...    ...            ...       ...              ...   \n",
       "404    male  43.0      1      0          17765   27.7208              D40   \n",
       "405    male  20.0      0      0  SC/PARIS 2166   13.8625              D38   \n",
       "407    male  50.0      1      1         113503  211.5000              C80   \n",
       "411  female  37.0      1      0          19928   90.0000              C78   \n",
       "414  female  39.0      0      0       PC 17758  108.9000             C105   \n",
       "\n",
       "    Embarked  \n",
       "12         S  \n",
       "14         S  \n",
       "24         C  \n",
       "26         C  \n",
       "28         S  \n",
       "..       ...  \n",
       "404        C  \n",
       "405        C  \n",
       "407        C  \n",
       "411        Q  \n",
       "414        C  \n",
       "\n",
       "[87 rows x 11 columns]"
      ]
     },
     "execution_count": 73,
     "metadata": {},
     "output_type": "execute_result"
    }
   ],
   "source": [
    "train_data = train_data.drop(['Name','Ticket','Cabin'], axis=1)\n",
    "train_data.dropna()\n",
    "test_data.dropna()"
   ]
  },
  {
   "cell_type": "markdown",
   "metadata": {},
   "source": [
    "### Analyze data"
   ]
  },
  {
   "cell_type": "code",
   "execution_count": 19,
   "metadata": {},
   "outputs": [
    {
     "data": {
      "text/plain": [
       "<Axes: xlabel='Survived'>"
      ]
     },
     "execution_count": 19,
     "metadata": {},
     "output_type": "execute_result"
    },
    {
     "data": {
      "image/png": "[encoded data removed]",
      "text/plain": [
       "<Figure size 640x480 with 1 Axes>"
      ]
     },
     "metadata": {},
     "output_type": "display_data"
    }
   ],
   "source": [
    "train_data['Survived'].value_counts().plot(kind='bar')"
   ]
  },
  {
   "cell_type": "code",
   "execution_count": 24,
   "metadata": {},
   "outputs": [
    {
     "data": {
      "text/plain": [
       "<Axes: xlabel='survive'>"
      ]
     },
     "execution_count": 24,
     "metadata": {},
     "output_type": "execute_result"
    },
    {
     "data": {
      "image/png": "[encoded data removed]",
      "text/plain": [
       "<Figure size 640x480 with 1 Axes>"
      ]
     },
     "metadata": {},
     "output_type": "display_data"
    }
   ],
   "source": [
    "pd.crosstab(train_data['Survived'], train_data['Sex']).plot(kind='bar', stacked=True, xlabel='survive')"
   ]
  },
  {
   "cell_type": "code",
   "execution_count": 25,
   "metadata": {},
   "outputs": [
    {
     "data": {
      "text/plain": [
       "<Axes: xlabel='Pclass'>"
      ]
     },
     "execution_count": 25,
     "metadata": {},
     "output_type": "execute_result"
    },
    {
     "data": {
      "image/png": "[encoded data removed]",
      "text/plain": [
       "<Figure size 640x480 with 1 Axes>"
      ]
     },
     "metadata": {},
     "output_type": "display_data"
    }
   ],
   "source": [
    "pd.crosstab(train_data['Survived'], train_data['Pclass']).plot(kind='bar', stacked=True, xlabel='Pclass')"
   ]
  },
  {
   "cell_type": "markdown",
   "metadata": {},
   "source": [
    "### Transform data"
   ]
  },
  {
   "cell_type": "code",
   "execution_count": 97,
   "metadata": {},
   "outputs": [
    {
     "name": "stdout",
     "output_type": "stream",
     "text": [
      "   Intercept  C(Pclass)[T.2]  C(Pclass)[T.3]  C(Sex)[T.male]  Embarked[T.Q]  \\\n",
      "0        1.0             0.0             1.0             1.0            0.0   \n",
      "1        1.0             0.0             0.0             0.0            0.0   \n",
      "\n",
      "   Embarked[T.S]   Age     Fare  \n",
      "0            1.0  22.0   7.2500  \n",
      "1            0.0  38.0  71.2833  \n"
     ]
    },
    {
     "name": "stderr",
     "output_type": "stream",
     "text": [
      "c:\\Users\\miche\\anaconda3\\Lib\\site-packages\\patsy\\util.py:672: FutureWarning: is_categorical_dtype is deprecated and will be removed in a future version. Use isinstance(dtype, CategoricalDtype) instead\n",
      "  return _pandas_is_categorical_dtype(dt)\n",
      "c:\\Users\\miche\\anaconda3\\Lib\\site-packages\\patsy\\util.py:672: FutureWarning: is_categorical_dtype is deprecated and will be removed in a future version. Use isinstance(dtype, CategoricalDtype) instead\n",
      "  return _pandas_is_categorical_dtype(dt)\n",
      "c:\\Users\\miche\\anaconda3\\Lib\\site-packages\\patsy\\util.py:672: FutureWarning: is_categorical_dtype is deprecated and will be removed in a future version. Use isinstance(dtype, CategoricalDtype) instead\n",
      "  return _pandas_is_categorical_dtype(dt)\n",
      "c:\\Users\\miche\\anaconda3\\Lib\\site-packages\\patsy\\util.py:672: FutureWarning: is_categorical_dtype is deprecated and will be removed in a future version. Use isinstance(dtype, CategoricalDtype) instead\n",
      "  return _pandas_is_categorical_dtype(dt)\n",
      "c:\\Users\\miche\\anaconda3\\Lib\\site-packages\\patsy\\util.py:672: FutureWarning: is_categorical_dtype is deprecated and will be removed in a future version. Use isinstance(dtype, CategoricalDtype) instead\n",
      "  return _pandas_is_categorical_dtype(dt)\n",
      "c:\\Users\\miche\\anaconda3\\Lib\\site-packages\\patsy\\util.py:672: FutureWarning: is_categorical_dtype is deprecated and will be removed in a future version. Use isinstance(dtype, CategoricalDtype) instead\n",
      "  return _pandas_is_categorical_dtype(dt)\n",
      "c:\\Users\\miche\\anaconda3\\Lib\\site-packages\\patsy\\util.py:672: FutureWarning: is_categorical_dtype is deprecated and will be removed in a future version. Use isinstance(dtype, CategoricalDtype) instead\n",
      "  return _pandas_is_categorical_dtype(dt)\n"
     ]
    }
   ],
   "source": [
    "featuers = 'Survived ~ C(Pclass)+C(Sex)+Age+Fare+Embarked'\n",
    "Y, X = dmatrices(featuers, data=train_data, return_type='dataframe')\n",
    "\n",
    "test_data['Survived'] = 1 # add dummy label for test dataset\n",
    "Y_test, X_test = dmatrices(featuers, data=test_data, return_type='dataframe')\n",
    "\n",
    "Y = Y.values.flatten()\n",
    "\n",
    "print(X.head(2))"
   ]
  },
  {
   "cell_type": "markdown",
   "metadata": {},
   "source": [
    "### Train model"
   ]
  },
  {
   "cell_type": "code",
   "execution_count": 105,
   "metadata": {},
   "outputs": [
    {
     "name": "stderr",
     "output_type": "stream",
     "text": [
      "c:\\Users\\miche\\anaconda3\\Lib\\site-packages\\sklearn\\linear_model\\_logistic.py:460: ConvergenceWarning: lbfgs failed to converge (status=1):\n",
      "STOP: TOTAL NO. of ITERATIONS REACHED LIMIT.\n",
      "\n",
      "Increase the number of iterations (max_iter) or scale the data as shown in:\n",
      "    https://scikit-learn.org/stable/modules/preprocessing.html\n",
      "Please also refer to the documentation for alternative solver options:\n",
      "    https://scikit-learn.org/stable/modules/linear_model.html#logistic-regression\n",
      "  n_iter_i = _check_optimize_result(\n"
     ]
    },
    {
     "data": {
      "text/html": [
       "<style>#sk-container-id-7 {color: black;}#sk-container-id-7 pre{padding: 0;}#sk-container-id-7 div.sk-toggleable {background-color: white;}#sk-container-id-7 label.sk-toggleable__label {cursor: pointer;display: block;width: 100%;margin-bottom: 0;padding: 0.3em;box-sizing: border-box;text-align: center;}#sk-container-id-7 label.sk-toggleable__label-arrow:before {content: \"▸\";float: left;margin-right: 0.25em;color: #696969;}#sk-container-id-7 label.sk-toggleable__label-arrow:hover:before {color: black;}#sk-container-id-7 div.sk-estimator:hover label.sk-toggleable__label-arrow:before {color: black;}#sk-container-id-7 div.sk-toggleable__content {max-height: 0;max-width: 0;overflow: hidden;text-align: left;background-color: #f0f8ff;}#sk-container-id-7 div.sk-toggleable__content pre {margin: 0.2em;color: black;border-radius: 0.25em;background-color: #f0f8ff;}#sk-container-id-7 input.sk-toggleable__control:checked~div.sk-toggleable__content {max-height: 200px;max-width: 100%;overflow: auto;}#sk-container-id-7 input.sk-toggleable__control:checked~label.sk-toggleable__label-arrow:before {content: \"▾\";}#sk-container-id-7 div.sk-estimator input.sk-toggleable__control:checked~label.sk-toggleable__label {background-color: #d4ebff;}#sk-container-id-7 div.sk-label input.sk-toggleable__control:checked~label.sk-toggleable__label {background-color: #d4ebff;}#sk-container-id-7 input.sk-hidden--visually {border: 0;clip: rect(1px 1px 1px 1px);clip: rect(1px, 1px, 1px, 1px);height: 1px;margin: -1px;overflow: hidden;padding: 0;position: absolute;width: 1px;}#sk-container-id-7 div.sk-estimator {font-family: monospace;background-color: #f0f8ff;border: 1px dotted black;border-radius: 0.25em;box-sizing: border-box;margin-bottom: 0.5em;}#sk-container-id-7 div.sk-estimator:hover {background-color: #d4ebff;}#sk-container-id-7 div.sk-parallel-item::after {content: \"\";width: 100%;border-bottom: 1px solid gray;flex-grow: 1;}#sk-container-id-7 div.sk-label:hover label.sk-toggleable__label {background-color: #d4ebff;}#sk-container-id-7 div.sk-serial::before {content: \"\";position: absolute;border-left: 1px solid gray;box-sizing: border-box;top: 0;bottom: 0;left: 50%;z-index: 0;}#sk-container-id-7 div.sk-serial {display: flex;flex-direction: column;align-items: center;background-color: white;padding-right: 0.2em;padding-left: 0.2em;position: relative;}#sk-container-id-7 div.sk-item {position: relative;z-index: 1;}#sk-container-id-7 div.sk-parallel {display: flex;align-items: stretch;justify-content: center;background-color: white;position: relative;}#sk-container-id-7 div.sk-item::before, #sk-container-id-7 div.sk-parallel-item::before {content: \"\";position: absolute;border-left: 1px solid gray;box-sizing: border-box;top: 0;bottom: 0;left: 50%;z-index: -1;}#sk-container-id-7 div.sk-parallel-item {display: flex;flex-direction: column;z-index: 1;position: relative;background-color: white;}#sk-container-id-7 div.sk-parallel-item:first-child::after {align-self: flex-end;width: 50%;}#sk-container-id-7 div.sk-parallel-item:last-child::after {align-self: flex-start;width: 50%;}#sk-container-id-7 div.sk-parallel-item:only-child::after {width: 0;}#sk-container-id-7 div.sk-dashed-wrapped {border: 1px dashed gray;margin: 0 0.4em 0.5em 0.4em;box-sizing: border-box;padding-bottom: 0.4em;background-color: white;}#sk-container-id-7 div.sk-label label {font-family: monospace;font-weight: bold;display: inline-block;line-height: 1.2em;}#sk-container-id-7 div.sk-label-container {text-align: center;}#sk-container-id-7 div.sk-container {/* jupyter's `normalize.less` sets `[hidden] { display: none; }` but bootstrap.min.css set `[hidden] { display: none !important; }` so we also need the `!important` here to be able to override the default hidden behavior on the sphinx rendered scikit-learn.org. See: https://github.com/scikit-learn/scikit-learn/issues/21755 */display: inline-block !important;position: relative;}#sk-container-id-7 div.sk-text-repr-fallback {display: none;}</style><div id=\"sk-container-id-7\" class=\"sk-top-container\"><div class=\"sk-text-repr-fallback\"><pre>LogisticRegression()</pre><b>In a Jupyter environment, please rerun this cell to show the HTML representation or trust the notebook. <br />On GitHub, the HTML representation is unable to render, please try loading this page with nbviewer.org.</b></div><div class=\"sk-container\" hidden><div class=\"sk-item\"><div class=\"sk-estimator sk-toggleable\"><input class=\"sk-toggleable__control sk-hidden--visually\" id=\"sk-estimator-id-7\" type=\"checkbox\" checked><label for=\"sk-estimator-id-7\" class=\"sk-toggleable__label sk-toggleable__label-arrow\">LogisticRegression</label><div class=\"sk-toggleable__content\"><pre>LogisticRegression()</pre></div></div></div></div></div>"
      ],
      "text/plain": [
       "LogisticRegression()"
      ]
     },
     "execution_count": 105,
     "metadata": {},
     "output_type": "execute_result"
    }
   ],
   "source": [
    "model = LogisticRegression()\n",
    "model.fit(X, Y)\n"
   ]
  },
  {
   "cell_type": "markdown",
   "metadata": {},
   "source": [
    "### Evaluate model"
   ]
  },
  {
   "cell_type": "code",
   "execution_count": 99,
   "metadata": {},
   "outputs": [
    {
     "name": "stdout",
     "output_type": "stream",
     "text": [
      "[('Intercept', 1.56119487622041), ('C(Pclass)[T.2]', -0.8783824098345275), ('C(Pclass)[T.3]', -2.078831198618265), ('C(Sex)[T.male]', -2.387264082321088), ('Embarked[T.Q]', -0.5786589714618489), ('Embarked[T.S]', -0.4064205864726232), ('Age', -0.031964155309371696), ('Fare', 0.00124110795104693)]\n",
      "0.7949438202247191\n"
     ]
    }
   ],
   "source": [
    "print(list(zip(X.columns, model.coef_.flatten())))\n",
    "a_score = model.score(X, Y)\n",
    "print(a_score)\n",
    "\n"
   ]
  },
  {
   "cell_type": "markdown",
   "metadata": {},
   "source": [
    "### Predit on test dataset"
   ]
  },
  {
   "cell_type": "code",
   "execution_count": 103,
   "metadata": {},
   "outputs": [
    {
     "name": "stdout",
     "output_type": "stream",
     "text": [
      "[0 0 0 0 1 0 0 0 1 0 0 1 0 1 1 0 0 1 0 0 0 1 1 0 1 0 0 0 0 0 1 0 1 0 0 0 1\n",
      " 1 0 0 1 0 1 0 1 1 0 0 0 1 0 0 0 1 1 1 0 1 1 1 0 1 1 1 1 1 0 1 0 0 0 0 1 0\n",
      " 1 1 1 0 1 0 1 0 1 0 0 1 0 0 0 0 1 1 1 0 1 1 1 1 1 0 1 0 0 0 0 0 0 0 0 0 1\n",
      " 0 1 1 0 0 0 0 0 0 1 0 0 0 1 1 0 1 0 1 0 1 0 0 1 0 0 0 1 1 0 1 1 0 1 1 1 0\n",
      " 1 0 0 0 0 0 0 0 1 1 0 0 0 1 0 0 0 1 0 0 0 1 0 0 0 1 1 0 1 0 1 0 0 0 0 1 0\n",
      " 0 0 0 0 1 1 1 1 0 0 1 0 1 1 0 1 0 0 0 1 0 0 0 1 1 0 0 0 1 1 0 0 0 0 1 0 1\n",
      " 1 0 1 0 0 0 0 1 0 0 0 0 0 1 0 0 0 0 0 0 0 1 1 0 0 0 0 0 0 0 0 1 0 1 0 0 0\n",
      " 1 0 1 0 0 0 0 0 0 0 1 1 0 1 0 1 1 0 0 0 1 0 1 1 0 1 1 0 1 1 1 0 0 1 0 0 1\n",
      " 1 1 0 0 0 0 1 1 0 0 0 0 1 1 0 0 0 1 0 1 0 0 1 0 1 1 0 0 0 0 1 1 1 1 0]\n"
     ]
    }
   ],
   "source": [
    "Y_test = model.predict(X_test).astype(int)\n",
    "print(Y_test[:500])"
   ]
  },
  {
   "cell_type": "markdown",
   "metadata": {},
   "source": [
    "\n",
    "### Output"
   ]
  },
  {
   "cell_type": "code",
   "execution_count": 107,
   "metadata": {},
   "outputs": [],
   "source": [
    "\n",
    "df = pd.DataFrame(Y_test)\n",
    "df.to_csv('./data/titanic/submission.csv',index = False, header=True)"
   ]
  },
  {
   "cell_type": "markdown",
   "metadata": {},
   "source": [
    "## Precision Recall curve"
   ]
  },
  {
   "cell_type": "code",
   "execution_count": 128,
   "metadata": {},
   "outputs": [
    {
     "name": "stdout",
     "output_type": "stream",
     "text": [
      "[[0.8876922  0.1123078 ]\n",
      " [0.08524086 0.91475914]\n",
      " [0.45193304 0.54806696]]\n",
      "(712, 2)\n"
     ]
    },
    {
     "data": {
      "image/png": "[encoded data removed]",
      "text/plain": [
       "<Figure size 640x480 with 1 Axes>"
      ]
     },
     "metadata": {},
     "output_type": "display_data"
    },
    {
     "name": "stdout",
     "output_type": "stream",
     "text": [
      "[0.02211229 0.02345662 0.02625077 0.03505204 0.03732489 0.04159908\n",
      " 0.04767109 0.04771031 0.04772723 0.04920116 0.05023932 0.05226738\n",
      " 0.05383538 0.05394612 0.0557067  0.0570688  0.05716774 0.05723969\n",
      " 0.05898059 0.0589892  0.05954624 0.06067545 0.06078872 0.06260307\n",
      " 0.06261035 0.06266531 0.06268414 0.06447346 0.0649982  0.06600623\n",
      " 0.06648783 0.06804548 0.06850177 0.06979792 0.07037424 0.07049853\n",
      " 0.07056735 0.07062979 0.0718481  0.07269524 0.07400905 0.07420111\n",
      " 0.07484272 0.0748771  0.07553781 0.07628655 0.07704691 0.07705352\n",
      " 0.07713521 0.07851125 0.07930062 0.07944157 0.08001982 0.08178514\n",
      " 0.0817964  0.08186712 0.08194605 0.08225089 0.08298136 0.08338808\n",
      " 0.08422542 0.0842294  0.0842322  0.08424417 0.08427409 0.08499401\n",
      " 0.08671607 0.08673082 0.08801757 0.08827332 0.08900021 0.08922822\n",
      " 0.08929337 0.08930894 0.08945541 0.09012487 0.09183903 0.09191454\n",
      " 0.0919249  0.09194303 0.09209166 0.09209339 0.09369575 0.09413461\n",
      " 0.09461971 0.09462591 0.09463034 0.09463344 0.09480105 0.09547952\n",
      " 0.09619739 0.09653367 0.09730417 0.09739368 0.09740459 0.09748828\n",
      " 0.09911863 0.09992597 0.10023765 0.10024651 0.10025024 0.10025117\n",
      " 0.10026844 0.10033704 0.10167955 0.10226823 0.10307434 0.10309729\n",
      " 0.10314321 0.10315756 0.10317143 0.104183   0.10431435 0.10467755\n",
      " 0.10486054 0.10513143 0.10582459 0.10606715 0.10607794 0.10611962\n",
      " 0.10615494 0.10616672 0.10618488 0.1063558  0.10713685 0.10809633\n",
      " 0.10923335 0.10923838 0.109399   0.11148181 0.11229233 0.1123078\n",
      " 0.11234131 0.11237535 0.11238773 0.11240682 0.11252451 0.1125679\n",
      " 0.11289336 0.11484639 0.11487851 0.11553416 0.11560076 0.1156034\n",
      " 0.11560393 0.11561081 0.1156198  0.11563566 0.11568432 0.11571342\n",
      " 0.1166613  0.11717737 0.11797315 0.11807221 0.11881482 0.11891935\n",
      " 0.11892856 0.11894482 0.11902451 0.11909773 0.11913354 0.11917859\n",
      " 0.1212669  0.12228228 0.12229893 0.12231503 0.12233558 0.12235001\n",
      " 0.12261847 0.12319769 0.1255972  0.12576825 0.12577166 0.1257745\n",
      " 0.12578247 0.12580919 0.12584332 0.12747875 0.1282294  0.12822998\n",
      " 0.12922776 0.12923765 0.12945254 0.13194055 0.13222718 0.13297055\n",
      " 0.1330099  0.13317697 0.13321757 0.13368596 0.13394546 0.13444044\n",
      " 0.13476572 0.13682298 0.13760354 0.13958738 0.13966193 0.1401269\n",
      " 0.1404158  0.14339834 0.14431837 0.14498378 0.14536706 0.14616863\n",
      " 0.14648268 0.14718094 0.14744368 0.15020315 0.15330213 0.15566216\n",
      " 0.15888254 0.15962885 0.15962955 0.16000605 0.16024339 0.16231379\n",
      " 0.16285785 0.16309577 0.16494431 0.1664773  0.16761326 0.16783478\n",
      " 0.1683931  0.16987777 0.17176242 0.17516276 0.17542435 0.17553827\n",
      " 0.18025819 0.18225165 0.18256282 0.18434125 0.18517015 0.1874907\n",
      " 0.18812964 0.19010513 0.19097158 0.19197344 0.19308223 0.19608578\n",
      " 0.19731083 0.19975277 0.19987867 0.20107377 0.20491137 0.20637362\n",
      " 0.20766536 0.20810838 0.21029892 0.21242032 0.21285952 0.21293987\n",
      " 0.21296541 0.2150016  0.21602407 0.21781701 0.22111229 0.22385054\n",
      " 0.22388583 0.22558033 0.22666624 0.22929397 0.23075782 0.23101771\n",
      " 0.23459564 0.23518976 0.23806749 0.24038375 0.24095077 0.24397119\n",
      " 0.24626872 0.24684511 0.24705857 0.24892551 0.25050297 0.25224992\n",
      " 0.25471587 0.2583266  0.25892152 0.25896048 0.25904061 0.26371285\n",
      " 0.26510193 0.26609778 0.26626971 0.26825717 0.27076278 0.27135732\n",
      " 0.27495972 0.27767283 0.27774214 0.2809903  0.28356875 0.28404605\n",
      " 0.28419952 0.28523927 0.28883901 0.29010718 0.29036285 0.2907466\n",
      " 0.29078848 0.29138564 0.29783704 0.29971867 0.30370975 0.3050918\n",
      " 0.31095353 0.3169524  0.31712692 0.31758431 0.31776132 0.31779923\n",
      " 0.31836437 0.31985701 0.32022338 0.32106761 0.32422382 0.32436103\n",
      " 0.3247308  0.32476915 0.3259257  0.32886242 0.32932013 0.33015808\n",
      " 0.33070975 0.33186261 0.33282466 0.33430818 0.33433015 0.33824734\n",
      " 0.34099686 0.3414469  0.34256662 0.34528892 0.34663808 0.34770949\n",
      " 0.353382   0.35405751 0.36056715 0.36070764 0.36086627 0.36796911\n",
      " 0.37430346 0.37543382 0.3815909  0.38283775 0.38456333 0.39128587\n",
      " 0.39779222 0.39833171 0.39836146 0.39848407 0.39864645 0.40196713\n",
      " 0.40379809 0.40528183 0.40544641 0.40601668 0.40887996 0.41240321\n",
      " 0.41382697 0.41406511 0.41494199 0.41509336 0.41897882 0.42103853\n",
      " 0.4215187  0.42503075 0.42650776 0.432576   0.43537059 0.43715634\n",
      " 0.43851816 0.43897049 0.44118769 0.4445897  0.44505074 0.4465839\n",
      " 0.44908234 0.45172814 0.45411336 0.45607862 0.45611842 0.45927598\n",
      " 0.45964832 0.45969093 0.4609102  0.46098395 0.46100919 0.46374519\n",
      " 0.46539543 0.46702834 0.46732728 0.46804151 0.46918141 0.47015662\n",
      " 0.471277   0.47714929 0.48013114 0.49156844 0.49473772 0.50001713\n",
      " 0.50279328 0.50657196 0.50823795 0.50849513 0.51138474 0.51216775\n",
      " 0.51647457 0.51765612 0.5212731  0.52500918 0.52829263 0.53172836\n",
      " 0.53218018 0.53253837 0.53418939 0.53699837 0.54013826 0.54096961\n",
      " 0.54112715 0.5415406  0.54493559 0.5467628  0.54804519 0.54806696\n",
      " 0.55057878 0.55592537 0.55597133 0.5607773  0.56160121 0.56412977\n",
      " 0.56626478 0.56652386 0.56829054 0.57157756 0.57169153 0.57889736\n",
      " 0.57909756 0.57929557 0.5794468  0.57945436 0.58007802 0.58028334\n",
      " 0.58419749 0.58420252 0.58522991 0.58718561 0.58783979 0.59202913\n",
      " 0.59430443 0.59520172 0.59521429 0.59556186 0.600037   0.60265133\n",
      " 0.60462058 0.60492255 0.60903065 0.61017407 0.61025649 0.61072132\n",
      " 0.61086639 0.61195616 0.61321168 0.61327055 0.6168912  0.61787558\n",
      " 0.62316175 0.62516871 0.62538707 0.62645198 0.63665547 0.64022606\n",
      " 0.64042461 0.64502224 0.65230664 0.65234622 0.65669615 0.65749338\n",
      " 0.66192517 0.66313094 0.66360503 0.66847718 0.66958549 0.6735811\n",
      " 0.68155714 0.68158062 0.682489   0.68332214 0.6866575  0.68845635\n",
      " 0.69184021 0.69854744 0.70289594 0.70330807 0.70356779 0.70469528\n",
      " 0.70851535 0.70955632 0.70993532 0.7118362  0.71237882 0.71373105\n",
      " 0.71671315 0.71997943 0.72111939 0.72153985 0.72222508 0.72292017\n",
      " 0.72375254 0.72420516 0.72611006 0.72797673 0.72805847 0.72848908\n",
      " 0.728887   0.73026139 0.73379333 0.73420071 0.74648817 0.74952934\n",
      " 0.75001815 0.75433399 0.75782554 0.75839452 0.75983234 0.76066134\n",
      " 0.76280127 0.76421698 0.76707067 0.76709789 0.7674857  0.76991404\n",
      " 0.77837726 0.78104289 0.78107762 0.78273614 0.78323129 0.78593857\n",
      " 0.78739788 0.78915721 0.79170741 0.79177904 0.79442652 0.79649721\n",
      " 0.79860134 0.8034644  0.80467054 0.80540814 0.80681863 0.80964566\n",
      " 0.8104096  0.81194802 0.81207338 0.81235733 0.81316004 0.81452327\n",
      " 0.8147107  0.82172475 0.82445605 0.82452707 0.82582594 0.82619031\n",
      " 0.82628298 0.83073262 0.83746612 0.83960932 0.83967838 0.84127363\n",
      " 0.8422269  0.84345796 0.85267724 0.85509479 0.85967138 0.8609511\n",
      " 0.86143673 0.86377506 0.86519869 0.86650693 0.87022013 0.87165847\n",
      " 0.87372999 0.87399742 0.87492002 0.87754213 0.878422   0.87876225\n",
      " 0.87989226 0.88130266 0.88228159 0.88322949 0.88373992 0.88394555\n",
      " 0.88480277 0.88494185 0.88732624 0.88872497 0.88952331 0.88984555\n",
      " 0.89004005 0.89016892 0.89129257 0.89237499 0.89353119 0.89426735\n",
      " 0.89496745 0.89524429 0.89705138 0.89870201 0.90099593 0.9012141\n",
      " 0.90390249 0.90465449 0.90942674 0.91338988 0.91340631 0.91370375\n",
      " 0.91475914 0.91588534 0.91608952 0.91895697 0.91977073 0.9211428\n",
      " 0.92218225 0.92286408 0.92532319 0.92540986 0.92542407 0.92572764\n",
      " 0.92871346 0.92898363 0.92934538 0.92941944 0.92949103 0.93157115\n",
      " 0.9319113  0.93215538 0.93279263 0.93395212 0.93414637 0.93538476\n",
      " 0.93608563 0.93636586 0.9423316  0.94237038 0.94365231 0.94455991\n",
      " 0.94570872 0.94663494 0.94808116 0.95280254 0.95331213 0.95520714\n",
      " 0.95652469 0.95905567 0.9610735  0.96147231 0.96265976]\n"
     ]
    }
   ],
   "source": [
    "\n",
    "Y_prob = model.predict_proba(X)\n",
    "print(Y_prob[:3])\n",
    "print(Y_prob.shape)\n",
    "\n",
    "# thresholds = list(range(0.4, 1, 0.05))\n",
    "# for threshold in thresholds:\n",
    "#     y_predict = [1 if y >= threshold else 0 for y in Y_prob]\n",
    "\n",
    "precision, recall, thresholds = precision_recall_curve(Y, Y_prob[:,1])\n",
    "plt.plot(recall, precision)\n",
    "plt.xlabel = 'recall'\n",
    "plt.ylabel = 'precision'\n",
    "plt.show()\n",
    "print(thresholds)"
   ]
  }
 ],
 "metadata": {
  "kernelspec": {
   "display_name": "base",
   "language": "python",
   "name": "python3"
  },
  "language_info": {
   "codemirror_mode": {
    "name": "ipython",
    "version": 3
   },
   "file_extension": ".py",
   "mimetype": "text/x-python",
   "name": "python",
   "nbconvert_exporter": "python",
   "pygments_lexer": "ipython3",
   "version": "3.11.5"
  }
 },
 "nbformat": 4,
 "nbformat_minor": 2
}
