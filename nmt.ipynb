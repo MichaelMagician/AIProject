{
 "cells": [
  {
   "cell_type": "markdown",
   "metadata": {},
   "source": [
    "# NMT"
   ]
  },
  {
   "cell_type": "code",
   "execution_count": 1,
   "metadata": {},
   "outputs": [],
   "source": [
    "import numpy as np\n",
    "import pandas as pd\n",
    "import matplotlib.pyplot as plt\n",
    "from sklearn.model_selection import train_test_split\n",
    "from collections import Counter\n",
    "from tqdm import tqdm"
   ]
  },
  {
   "cell_type": "markdown",
   "metadata": {},
   "source": [
    "### Read data"
   ]
  },
  {
   "cell_type": "code",
   "execution_count": 11,
   "metadata": {},
   "outputs": [
    {
     "name": "stderr",
     "output_type": "stream",
     "text": [
      "0it [00:14, ?it/s]\n",
      "667000000it [02:27, 11894892.13it/s]"
     ]
    }
   ],
   "source": [
    "enline, chline = None, None\n",
    "enlines, chlines = [], []\n",
    "sentence_length = 6\n",
    "file_path = './data/word/segmented_train_seg_by_word.txt'\n",
    "pbar = tqdm()\n",
    "i = 0\n",
    "early_exist_line_num = 1000000\n",
    "with open(file_path, 'r') as lines:\n",
    "    for line in lines:\n",
    "        i += 1\n",
    "        if i % 2 == 1:\n",
    "            enline = line.lower().strip('\\n').split()\n",
    "            continue          \n",
    "        else:\n",
    "            chline = line.strip('\\n').replace(' ','').split()\n",
    "        if len(enline) > sentence_length and len(chline) > sentence_length:\n",
    "            continue    \n",
    "        enlines.append(enline)\n",
    "        chlines.append(chline)  \n",
    "        if i % 100000 == 0:\n",
    "            pbar.update(i)  \n",
    "        if i == early_exist_line_num:\n",
    "            break\n",
    "     "
   ]
  },
  {
   "cell_type": "code",
   "execution_count": 8,
   "metadata": {},
   "outputs": [
    {
     "data": {
      "text/plain": [
       "0"
      ]
     },
     "execution_count": 8,
     "metadata": {},
     "output_type": "execute_result"
    }
   ],
   "source": [
    "len(chlines)"
   ]
  },
  {
   "cell_type": "code",
   "execution_count": 5,
   "metadata": {},
   "outputs": [
    {
     "name": "stdout",
     "output_type": "stream",
     "text": [
      "[]\n",
      "[]\n"
     ]
    }
   ],
   "source": [
    "print(chlines[:4])\n",
    "print(enlines[:4])"
   ]
  },
  {
   "cell_type": "code",
   "execution_count": null,
   "metadata": {},
   "outputs": [],
   "source": [
    "def addchar(word2id, id2word, word):\n",
    "    id = len(word2id)\n",
    "    word2id[id] = word\n",
    "    id2word[id] = word\n",
    "\n",
    "ch2id, id2ch, en2id, id2en = {}, {}, {},{}\n",
    "most_common_k = 10000\n",
    "specialchars = ['<eos>','<start>','<end>','<unk>']\n",
    "\n",
    "chwords, enwords = set(), set()\n",
    "for ch in chlines: chwords.add(ch)\n",
    "for en in enlines: enwords.add(ch)\n",
    "\n",
    "for word, _ in Counter(chwords).most_common(most_common_k):\n",
    "    addchar(ch2id, id2ch, word)\n",
    "    \n",
    "for word, _ in Counter(enwords).most_common(most_common_k):\n",
    "    addchar(en2id, id2en, word)"
   ]
  },
  {
   "cell_type": "markdown",
   "metadata": {},
   "source": [
    "### Train test split"
   ]
  },
  {
   "cell_type": "code",
   "execution_count": null,
   "metadata": {},
   "outputs": [],
   "source": []
  },
  {
   "cell_type": "markdown",
   "metadata": {},
   "source": [
    "### Transform data"
   ]
  },
  {
   "cell_type": "code",
   "execution_count": null,
   "metadata": {},
   "outputs": [],
   "source": [
    "\n"
   ]
  },
  {
   "cell_type": "markdown",
   "metadata": {},
   "source": [
    "### Train model"
   ]
  },
  {
   "cell_type": "code",
   "execution_count": null,
   "metadata": {},
   "outputs": [],
   "source": []
  },
  {
   "cell_type": "markdown",
   "metadata": {},
   "source": [
    "### Evaluate model"
   ]
  },
  {
   "cell_type": "code",
   "execution_count": null,
   "metadata": {},
   "outputs": [],
   "source": []
  },
  {
   "cell_type": "markdown",
   "metadata": {},
   "source": [
    "### Predit on test dataset"
   ]
  },
  {
   "cell_type": "code",
   "execution_count": null,
   "metadata": {},
   "outputs": [],
   "source": [
    "\n"
   ]
  },
  {
   "cell_type": "markdown",
   "metadata": {},
   "source": [
    "\n",
    "### Output"
   ]
  },
  {
   "cell_type": "code",
   "execution_count": 1,
   "metadata": {},
   "outputs": [],
   "source": [
    "\n",
    "# df = pd.DataFrame()\n",
    "# df.to_csv('submission.csv',index = False, header=True)"
   ]
  }
 ],
 "metadata": {
  "kernelspec": {
   "display_name": "base",
   "language": "python",
   "name": "python3"
  },
  "language_info": {
   "codemirror_mode": {
    "name": "ipython",
    "version": 3
   },
   "file_extension": ".py",
   "mimetype": "text/x-python",
   "name": "python",
   "nbconvert_exporter": "python",
   "pygments_lexer": "ipython3",
   "version": "3.11.5"
  }
 },
 "nbformat": 4,
 "nbformat_minor": 2
}
