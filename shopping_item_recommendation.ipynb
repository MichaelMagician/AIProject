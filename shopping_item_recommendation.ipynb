{
 "cells": [
  {
   "cell_type": "markdown",
   "metadata": {},
   "source": [
    "# Shopping Item Recommendation with GBDT and LR\n"
   ]
  },
  {
   "cell_type": "code",
   "execution_count": 92,
   "metadata": {},
   "outputs": [],
   "source": [
    "import numpy as np\n",
    "import pandas as pd\n",
    "import matplotlib.pyplot as plt\n",
    "from sklearn.model_selection import train_test_split\n",
    "from sklearn.metrics import accuracy_score, confusion_matrix, f1_score, roc_auc_score\n",
    "from sklearn.preprocessing import OneHotEncoder\n",
    "\n",
    "from sklearn.linear_model import LogisticRegression\n",
    "from sklearn.ensemble import GradientBoostingClassifier\n",
    "from sklearn.feature_extraction.text import CountVectorizer\n",
    "import datetime\n",
    "# GBDT\n",
    "    # features, continus and categorical variables\n",
    "# LR\n",
    "    #  "
   ]
  },
  {
   "cell_type": "markdown",
   "metadata": {},
   "source": [
    "### Read data"
   ]
  },
  {
   "cell_type": "code",
   "execution_count": 93,
   "metadata": {},
   "outputs": [
    {
     "name": "stdout",
     "output_type": "stream",
     "text": [
      "               item_id                       item_category_list  \\\n",
      "0  2744506471184009586  7908382889764677758;7258015885215914736   \n",
      "1  9148952645395028291  7908382889764677758;5755694407684602296   \n",
      "\n",
      "                                  item_property_list        item_brand_id  \\\n",
      "0  5131280576272319091;2636395404473730413;751580...  7838285046767229711   \n",
      "1  5131280576272319091;6434796455031995313;914848...  4609398715869550725   \n",
      "\n",
      "          item_city_id  item_price_level  item_sales_level  \\\n",
      "0  5918626470536001929                 4                11   \n",
      "1  7322157373578955368                 7                11   \n",
      "\n",
      "   item_collected_level  item_pv_level              user_id  ...  \\\n",
      "0                    10             17   545400486120000430  ...   \n",
      "1                    12             18  2288811001379435459  ...   \n",
      "\n",
      "                           predict_category_property              shop_id  \\\n",
      "0  7258015885215914736:9148482949976129397;509660...  7298587034305908007   \n",
      "1  5755694407684602296:1725845221699571933,403435...  4629590182417672844   \n",
      "\n",
      "   shop_review_num_level  shop_review_positive_rate  shop_star_level  \\\n",
      "0                      9                   0.979905             5007   \n",
      "1                     18                   0.991784             5015   \n",
      "\n",
      "   shop_score_service  shop_score_delivery shop_score_description  is_click  \\\n",
      "0            0.965576             0.970909               0.959273         0   \n",
      "1            0.970960             0.969867               0.969540         0   \n",
      "\n",
      "         date  \n",
      "0  2018-09-18  \n",
      "1  2018-09-18  \n",
      "\n",
      "[2 rows x 27 columns]\n"
     ]
    }
   ],
   "source": [
    "df = pd.read_csv('./data/shopping/data.csv', sep='\\t',nrows=10000)\n",
    "print(df.head(2))\n"
   ]
  },
  {
   "cell_type": "markdown",
   "metadata": {},
   "source": [
    "### Analyze data"
   ]
  },
  {
   "cell_type": "code",
   "execution_count": 94,
   "metadata": {},
   "outputs": [
    {
     "name": "stdout",
     "output_type": "stream",
     "text": [
      "<class 'pandas.core.frame.DataFrame'>\n",
      "RangeIndex: 10000 entries, 0 to 9999\n",
      "Data columns (total 27 columns):\n",
      " #   Column                     Non-Null Count  Dtype  \n",
      "---  ------                     --------------  -----  \n",
      " 0   item_id                    10000 non-null  int64  \n",
      " 1   item_category_list         10000 non-null  object \n",
      " 2   item_property_list         10000 non-null  object \n",
      " 3   item_brand_id              10000 non-null  int64  \n",
      " 4   item_city_id               10000 non-null  int64  \n",
      " 5   item_price_level           10000 non-null  int64  \n",
      " 6   item_sales_level           10000 non-null  int64  \n",
      " 7   item_collected_level       10000 non-null  int64  \n",
      " 8   item_pv_level              10000 non-null  int64  \n",
      " 9   user_id                    10000 non-null  int64  \n",
      " 10  user_gender_id             10000 non-null  int64  \n",
      " 11  user_age_level             10000 non-null  int64  \n",
      " 12  user_occupation_id         10000 non-null  int64  \n",
      " 13  user_star_level            10000 non-null  int64  \n",
      " 14  context_id                 10000 non-null  int64  \n",
      " 15  context_timestamp          10000 non-null  int64  \n",
      " 16  context_page_id            10000 non-null  int64  \n",
      " 17  predict_category_property  10000 non-null  object \n",
      " 18  shop_id                    10000 non-null  int64  \n",
      " 19  shop_review_num_level      10000 non-null  int64  \n",
      " 20  shop_review_positive_rate  10000 non-null  float64\n",
      " 21  shop_star_level            10000 non-null  int64  \n",
      " 22  shop_score_service         10000 non-null  float64\n",
      " 23  shop_score_delivery        10000 non-null  float64\n",
      " 24  shop_score_description     10000 non-null  float64\n",
      " 25  is_click                   10000 non-null  int64  \n",
      " 26  date                       10000 non-null  object \n",
      "dtypes: float64(4), int64(19), object(4)\n",
      "memory usage: 2.1+ MB\n"
     ]
    }
   ],
   "source": [
    "df.info()"
   ]
  },
  {
   "cell_type": "code",
   "execution_count": 95,
   "metadata": {},
   "outputs": [
    {
     "data": {
      "text/plain": [
       "(10000, 27)"
      ]
     },
     "execution_count": 95,
     "metadata": {},
     "output_type": "execute_result"
    }
   ],
   "source": [
    "df.shape"
   ]
  },
  {
   "cell_type": "code",
   "execution_count": 96,
   "metadata": {},
   "outputs": [
    {
     "data": {
      "text/plain": [
       "<Axes: xlabel='is_click'>"
      ]
     },
     "execution_count": 96,
     "metadata": {},
     "output_type": "execute_result"
    },
    {
     "data": {
      "image/png": "[encoded data removed]",
      "text/plain": [
       "<Figure size 640x480 with 1 Axes>"
      ]
     },
     "metadata": {},
     "output_type": "display_data"
    }
   ],
   "source": [
    "df['is_click'].value_counts().plot(kind='bar')"
   ]
  },
  {
   "cell_type": "code",
   "execution_count": 97,
   "metadata": {},
   "outputs": [
    {
     "data": {
      "text/html": [
       "<div>\n",
       "<style scoped>\n",
       "    .dataframe tbody tr th:only-of-type {\n",
       "        vertical-align: middle;\n",
       "    }\n",
       "\n",
       "    .dataframe tbody tr th {\n",
       "        vertical-align: top;\n",
       "    }\n",
       "\n",
       "    .dataframe thead th {\n",
       "        text-align: right;\n",
       "    }\n",
       "</style>\n",
       "<table border=\"1\" class=\"dataframe\">\n",
       "  <thead>\n",
       "    <tr style=\"text-align: right;\">\n",
       "      <th></th>\n",
       "      <th>0</th>\n",
       "      <th>weekday</th>\n",
       "    </tr>\n",
       "  </thead>\n",
       "  <tbody>\n",
       "    <tr>\n",
       "      <th>0</th>\n",
       "      <td>2018-09-18</td>\n",
       "      <td>1</td>\n",
       "    </tr>\n",
       "    <tr>\n",
       "      <th>1</th>\n",
       "      <td>2018-09-19</td>\n",
       "      <td>2</td>\n",
       "    </tr>\n",
       "  </tbody>\n",
       "</table>\n",
       "</div>"
      ],
      "text/plain": [
       "            0  weekday\n",
       "0  2018-09-18        1\n",
       "1  2018-09-19        2"
      ]
     },
     "execution_count": 97,
     "metadata": {},
     "output_type": "execute_result"
    }
   ],
   "source": [
    "\n",
    "\n",
    "dtime = pd.DataFrame(df['date'].unique())\n",
    "dtime['weekday'] = dtime.iloc[:,0].apply(lambda x: datetime.datetime.strptime(x, '%Y-%m-%d').date().weekday())\n",
    "dtime"
   ]
  },
  {
   "cell_type": "code",
   "execution_count": 98,
   "metadata": {},
   "outputs": [
    {
     "data": {
      "text/plain": [
       "date\n",
       "2018-09-18    0.168404\n",
       "2018-09-19    0.164029\n",
       "Name: is_click, dtype: float64"
      ]
     },
     "execution_count": 98,
     "metadata": {},
     "output_type": "execute_result"
    }
   ],
   "source": [
    "df.groupby('date')['is_click'].mean()"
   ]
  },
  {
   "cell_type": "code",
   "execution_count": 99,
   "metadata": {},
   "outputs": [
    {
     "name": "stdout",
     "output_type": "stream",
     "text": [
      "item_brand_id  944\n",
      "item_id  2813\n",
      "item_price_level  10\n"
     ]
    }
   ],
   "source": [
    "print('item_brand_id ',df['item_brand_id'].unique().size)\n",
    "print('item_id ',df['item_id'].unique().size)\n",
    "print('item_price_level ',df['item_price_level'].unique().size)\n"
   ]
  },
  {
   "cell_type": "code",
   "execution_count": 100,
   "metadata": {},
   "outputs": [
    {
     "data": {
      "text/html": [
       "<div>\n",
       "<style scoped>\n",
       "    .dataframe tbody tr th:only-of-type {\n",
       "        vertical-align: middle;\n",
       "    }\n",
       "\n",
       "    .dataframe tbody tr th {\n",
       "        vertical-align: top;\n",
       "    }\n",
       "\n",
       "    .dataframe thead th {\n",
       "        text-align: right;\n",
       "    }\n",
       "</style>\n",
       "<table border=\"1\" class=\"dataframe\">\n",
       "  <thead>\n",
       "    <tr style=\"text-align: right;\">\n",
       "      <th></th>\n",
       "      <th>item_id</th>\n",
       "      <th>is_click</th>\n",
       "    </tr>\n",
       "  </thead>\n",
       "  <tbody>\n",
       "    <tr>\n",
       "      <th>0</th>\n",
       "      <td>1097631460775571</td>\n",
       "      <td>0.0</td>\n",
       "    </tr>\n",
       "    <tr>\n",
       "      <th>1</th>\n",
       "      <td>1637165183538885</td>\n",
       "      <td>0.0</td>\n",
       "    </tr>\n",
       "    <tr>\n",
       "      <th>2</th>\n",
       "      <td>10102212873966760</td>\n",
       "      <td>0.4</td>\n",
       "    </tr>\n",
       "    <tr>\n",
       "      <th>3</th>\n",
       "      <td>13831602287370737</td>\n",
       "      <td>0.0</td>\n",
       "    </tr>\n",
       "    <tr>\n",
       "      <th>4</th>\n",
       "      <td>13847980288352425</td>\n",
       "      <td>0.0</td>\n",
       "    </tr>\n",
       "  </tbody>\n",
       "</table>\n",
       "</div>"
      ],
      "text/plain": [
       "             item_id  is_click\n",
       "0   1097631460775571       0.0\n",
       "1   1637165183538885       0.0\n",
       "2  10102212873966760       0.4\n",
       "3  13831602287370737       0.0\n",
       "4  13847980288352425       0.0"
      ]
     },
     "execution_count": 100,
     "metadata": {},
     "output_type": "execute_result"
    }
   ],
   "source": [
    "df.groupby('item_id')['is_click'].mean().head().reset_index()\n"
   ]
  },
  {
   "cell_type": "markdown",
   "metadata": {},
   "source": [
    "### Train test split"
   ]
  },
  {
   "cell_type": "code",
   "execution_count": 101,
   "metadata": {},
   "outputs": [],
   "source": [
    "df_train = df[df['date']!='2018-09-24']\n",
    "df_test = df[df['date']=='2018-09-24']"
   ]
  },
  {
   "cell_type": "markdown",
   "metadata": {},
   "source": [
    "### Transform data"
   ]
  },
  {
   "cell_type": "code",
   "execution_count": null,
   "metadata": {},
   "outputs": [],
   "source": [
    "\n"
   ]
  },
  {
   "cell_type": "code",
   "execution_count": 102,
   "metadata": {},
   "outputs": [],
   "source": [
    "CATEGORICAL_FEATURES = ['item_city_id','user_gender_id','user_occupation_id']\n",
    "CONTINUOUS_FEATURES = ['item_price_level', 'item_sales_level', 'item_collected_level','item_pv_level', 'user_age_level', 'user_star_level', 'shop_review_num_level', 'shop_review_positive_rate',\n",
    "                       'shop_star_level', 'shop_score_service', 'shop_score_delivery', 'shop_score_description']\n",
    "VECTOR_FEATURES = ['item_category_list']"
   ]
  },
  {
   "cell_type": "markdown",
   "metadata": {},
   "source": [
    "### Train GBDT model"
   ]
  },
  {
   "cell_type": "code",
   "execution_count": 105,
   "metadata": {},
   "outputs": [],
   "source": [
    "def get_continuous_features(data):\n",
    "    return data[CONTINUOUS_FEATURES]\n",
    "\n",
    "def get_labels(data):\n",
    "    return data['is_click']\n",
    "\n",
    "def get_categorical_features(data):\n",
    "    enc = OneHotEncoder()\n",
    "    enc.fit(data)\n",
    "    return enc.transform(data).toarray()\n",
    "\n",
    "def get_vector_features(train_data, test_data):\n",
    "    train_fea , test_feat = None, None    \n",
    "    for key in VECTOR_FEATURES:        \n",
    "        c_vector = CountVectorizer()\n",
    "        c_vector.fit(pd.concat([train_data[key], test_data[key]]))\n",
    "        if train_fea is None:\n",
    "            train_fea = c_vector.transform(train_data[key]).toarray()\n",
    "            test_fea = c_vector.transform(test_data[key]).toarray()\n",
    "        else:\n",
    "            train_fea = np.stack([train_fea,c_vector.transform(train_data[key]).toarray()])\n",
    "            test_fea = np.stack([test_fea,c_vector.transform(test_data[key]).toarray()])\n",
    "    return train_fea, test_fea\n",
    "\n",
    "y_train_label = get_labels(df_train)\n",
    "X_train_gbdt = get_continuous_features(df_train)\n",
    "\n",
    "y_test_label = get_labels(df_test)\n",
    "X_test_gbdt = get_continuous_features(df_test)\n",
    "\n",
    "x_train_category = get_categorical_features(df_train)\n",
    "# x_test_category = get_categorical_features(df_test)\n",
    "\n",
    "X_train_vector, X_test_vector = get_vector_features(df_train, df_test)"
   ]
  },
  {
   "cell_type": "code",
   "execution_count": null,
   "metadata": {},
   "outputs": [
    {
     "name": "stdout",
     "output_type": "stream",
     "text": [
      "      Iter       Train Loss   Remaining Time \n",
      "         1           0.8821            8.96s\n",
      "         2           0.8756            9.56s\n",
      "         3           0.8704            9.10s\n",
      "         4           0.8660            8.66s\n",
      "         5           0.8627            8.43s\n",
      "         6           0.8595            8.31s\n",
      "         7           0.8568            8.48s\n",
      "         8           0.8546            8.30s\n",
      "         9           0.8524            8.14s\n",
      "        10           0.8505            7.92s\n",
      "        20           0.8382            5.80s\n",
      "        30           0.8307            4.88s\n",
      "        40           0.8258            2.57s\n",
      "        50           0.8217            0.00s\n"
     ]
    },
    {
     "data": {
      "text/html": [
       "<style>#sk-container-id-1 {color: black;}#sk-container-id-1 pre{padding: 0;}#sk-container-id-1 div.sk-toggleable {background-color: white;}#sk-container-id-1 label.sk-toggleable__label {cursor: pointer;display: block;width: 100%;margin-bottom: 0;padding: 0.3em;box-sizing: border-box;text-align: center;}#sk-container-id-1 label.sk-toggleable__label-arrow:before {content: \"▸\";float: left;margin-right: 0.25em;color: #696969;}#sk-container-id-1 label.sk-toggleable__label-arrow:hover:before {color: black;}#sk-container-id-1 div.sk-estimator:hover label.sk-toggleable__label-arrow:before {color: black;}#sk-container-id-1 div.sk-toggleable__content {max-height: 0;max-width: 0;overflow: hidden;text-align: left;background-color: #f0f8ff;}#sk-container-id-1 div.sk-toggleable__content pre {margin: 0.2em;color: black;border-radius: 0.25em;background-color: #f0f8ff;}#sk-container-id-1 input.sk-toggleable__control:checked~div.sk-toggleable__content {max-height: 200px;max-width: 100%;overflow: auto;}#sk-container-id-1 input.sk-toggleable__control:checked~label.sk-toggleable__label-arrow:before {content: \"▾\";}#sk-container-id-1 div.sk-estimator input.sk-toggleable__control:checked~label.sk-toggleable__label {background-color: #d4ebff;}#sk-container-id-1 div.sk-label input.sk-toggleable__control:checked~label.sk-toggleable__label {background-color: #d4ebff;}#sk-container-id-1 input.sk-hidden--visually {border: 0;clip: rect(1px 1px 1px 1px);clip: rect(1px, 1px, 1px, 1px);height: 1px;margin: -1px;overflow: hidden;padding: 0;position: absolute;width: 1px;}#sk-container-id-1 div.sk-estimator {font-family: monospace;background-color: #f0f8ff;border: 1px dotted black;border-radius: 0.25em;box-sizing: border-box;margin-bottom: 0.5em;}#sk-container-id-1 div.sk-estimator:hover {background-color: #d4ebff;}#sk-container-id-1 div.sk-parallel-item::after {content: \"\";width: 100%;border-bottom: 1px solid gray;flex-grow: 1;}#sk-container-id-1 div.sk-label:hover label.sk-toggleable__label {background-color: #d4ebff;}#sk-container-id-1 div.sk-serial::before {content: \"\";position: absolute;border-left: 1px solid gray;box-sizing: border-box;top: 0;bottom: 0;left: 50%;z-index: 0;}#sk-container-id-1 div.sk-serial {display: flex;flex-direction: column;align-items: center;background-color: white;padding-right: 0.2em;padding-left: 0.2em;position: relative;}#sk-container-id-1 div.sk-item {position: relative;z-index: 1;}#sk-container-id-1 div.sk-parallel {display: flex;align-items: stretch;justify-content: center;background-color: white;position: relative;}#sk-container-id-1 div.sk-item::before, #sk-container-id-1 div.sk-parallel-item::before {content: \"\";position: absolute;border-left: 1px solid gray;box-sizing: border-box;top: 0;bottom: 0;left: 50%;z-index: -1;}#sk-container-id-1 div.sk-parallel-item {display: flex;flex-direction: column;z-index: 1;position: relative;background-color: white;}#sk-container-id-1 div.sk-parallel-item:first-child::after {align-self: flex-end;width: 50%;}#sk-container-id-1 div.sk-parallel-item:last-child::after {align-self: flex-start;width: 50%;}#sk-container-id-1 div.sk-parallel-item:only-child::after {width: 0;}#sk-container-id-1 div.sk-dashed-wrapped {border: 1px dashed gray;margin: 0 0.4em 0.5em 0.4em;box-sizing: border-box;padding-bottom: 0.4em;background-color: white;}#sk-container-id-1 div.sk-label label {font-family: monospace;font-weight: bold;display: inline-block;line-height: 1.2em;}#sk-container-id-1 div.sk-label-container {text-align: center;}#sk-container-id-1 div.sk-container {/* jupyter's `normalize.less` sets `[hidden] { display: none; }` but bootstrap.min.css set `[hidden] { display: none !important; }` so we also need the `!important` here to be able to override the default hidden behavior on the sphinx rendered scikit-learn.org. See: https://github.com/scikit-learn/scikit-learn/issues/21755 */display: inline-block !important;position: relative;}#sk-container-id-1 div.sk-text-repr-fallback {display: none;}</style><div id=\"sk-container-id-1\" class=\"sk-top-container\"><div class=\"sk-text-repr-fallback\"><pre>GradientBoostingClassifier(max_depth=4, n_estimators=50, random_state=0,\n",
       "                           verbose=1)</pre><b>In a Jupyter environment, please rerun this cell to show the HTML representation or trust the notebook. <br />On GitHub, the HTML representation is unable to render, please try loading this page with nbviewer.org.</b></div><div class=\"sk-container\" hidden><div class=\"sk-item\"><div class=\"sk-estimator sk-toggleable\"><input class=\"sk-toggleable__control sk-hidden--visually\" id=\"sk-estimator-id-1\" type=\"checkbox\" checked><label for=\"sk-estimator-id-1\" class=\"sk-toggleable__label sk-toggleable__label-arrow\">GradientBoostingClassifier</label><div class=\"sk-toggleable__content\"><pre>GradientBoostingClassifier(max_depth=4, n_estimators=50, random_state=0,\n",
       "                           verbose=1)</pre></div></div></div></div></div>"
      ],
      "text/plain": [
       "GradientBoostingClassifier(max_depth=4, n_estimators=50, random_state=0,\n",
       "                           verbose=1)"
      ]
     },
     "execution_count": 13,
     "metadata": {},
     "output_type": "execute_result"
    }
   ],
   "source": [
    "gbdt = GradientBoostingClassifier(n_estimators=50, max_depth=4, random_state=0, verbose=1)\n",
    "gbdt.fit(X_train_gbdt, y_train_label)"
   ]
  },
  {
   "cell_type": "code",
   "execution_count": 116,
   "metadata": {},
   "outputs": [
    {
     "name": "stdout",
     "output_type": "stream",
     "text": [
      "(10000, 733)\n"
     ]
    },
    {
     "name": "stderr",
     "output_type": "stream",
     "text": [
      "c:\\Users\\Michael\\anaconda3\\Lib\\site-packages\\sklearn\\base.py:457: UserWarning: X has feature names, but DecisionTreeRegressor was fitted without feature names\n",
      "  warnings.warn(\n"
     ]
    }
   ],
   "source": [
    "indexs = gbdt.apply(X_train_gbdt) # leave indexes\n",
    "indexs_train = np.squeeze(indexs)\n",
    "oneHotEncoder = OneHotEncoder()\n",
    "oneHotEncoder.fit(indexs_train)\n",
    "indexs_train_one_hot = oneHotEncoder.transform(indexs_train).toarray()\n",
    "print(indexs_train_one_hot.shape)\n",
    "\n",
    "# indexs_t = gbdt.apply(X_test_gbdt) # leave indexes\n",
    "# indexs_test = np.squeeze(indexs_t)\n",
    "# oneHotEncoder.fit(indexs_test)\n",
    "# indexs_test_one_hot = oneHotEncoder.transform(indexs_test)\n",
    "# print(indexs_test_one_hot.shape)"
   ]
  },
  {
   "cell_type": "markdown",
   "metadata": {},
   "source": [
    "### Train logistic regression model"
   ]
  },
  {
   "cell_type": "code",
   "execution_count": 118,
   "metadata": {},
   "outputs": [],
   "source": [
    "# feed continuous features, categorical features and vector features into the logistic regression model\n",
    "X_train_lr = np.hstack((X_train_vector, x_train_category, indexs_train_one_hot))\n",
    "logisticModel = LogisticRegression(C=100, max_iter=50, n_jobs=8)\n",
    "logisticModel.fit(X_train_lr, y_train_label)"
   ]
  },
  {
   "cell_type": "markdown",
   "metadata": {},
   "source": []
  },
  {
   "cell_type": "code",
   "execution_count": null,
   "metadata": {},
   "outputs": [
    {
     "name": "stdout",
     "output_type": "stream",
     "text": [
      "[[1 1 1]\n",
      " [2 2 2]\n",
      " [3 3 3]]\n"
     ]
    }
   ],
   "source": [
    "# import numpy as np\n",
    "# a =[[1],[2],[3]]\n",
    "# b =[[1],[2],[3]]\n",
    "# c =[[1],[2],[3]]\n",
    "# print(np.hstack((a,b,c)))\n",
    "\n"
   ]
  },
  {
   "cell_type": "markdown",
   "metadata": {},
   "source": [
    "### Evaluate model"
   ]
  },
  {
   "cell_type": "code",
   "execution_count": null,
   "metadata": {},
   "outputs": [],
   "source": []
  },
  {
   "cell_type": "markdown",
   "metadata": {},
   "source": [
    "### Predit on test dataset"
   ]
  },
  {
   "cell_type": "code",
   "execution_count": null,
   "metadata": {},
   "outputs": [],
   "source": [
    "\n"
   ]
  },
  {
   "cell_type": "markdown",
   "metadata": {},
   "source": [
    "\n",
    "### Output"
   ]
  },
  {
   "cell_type": "code",
   "execution_count": null,
   "metadata": {},
   "outputs": [],
   "source": [
    "\n",
    "# df = pd.DataFrame()\n",
    "# df.to_csv('submission.csv',index = False, header=True)"
   ]
  }
 ],
 "metadata": {
  "kernelspec": {
   "display_name": "base",
   "language": "python",
   "name": "python3"
  },
  "language_info": {
   "codemirror_mode": {
    "name": "ipython",
    "version": 3
   },
   "file_extension": ".py",
   "mimetype": "text/x-python",
   "name": "python",
   "nbconvert_exporter": "python",
   "pygments_lexer": "ipython3",
   "version": "3.11.5"
  }
 },
 "nbformat": 4,
 "nbformat_minor": 2
}
