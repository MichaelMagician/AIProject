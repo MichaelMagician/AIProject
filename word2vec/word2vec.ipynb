{
 "cells": [
  {
   "cell_type": "code",
   "execution_count": 24,
   "metadata": {},
   "outputs": [],
   "source": [
    "from gensim.models  import Word2Vec\n",
    "from gensim.models.word2vec import LineSentence\n",
    "from gensim.utils import simple_preprocess\n",
    "# data http://mattmahoney.net/dc/text8.zip "
   ]
  },
  {
   "cell_type": "code",
   "execution_count": 22,
   "metadata": {},
   "outputs": [
    {
     "name": "stdout",
     "output_type": "stream",
     "text": [
      "read text\n"
     ]
    }
   ],
   "source": [
    "input_path = '../data/word/text8'\n",
    "\n",
    "# lines = LineSentence(input_path)\n",
    "file = open(input_path, \"r\")\n",
    "lines = file.readlines()\n",
    "print('read text')\n"
   ]
  },
  {
   "cell_type": "code",
   "execution_count": 27,
   "metadata": {},
   "outputs": [],
   "source": [
    "text = [simple_preprocess(line) for line in lines]"
   ]
  },
  {
   "cell_type": "code",
   "execution_count": 28,
   "metadata": {},
   "outputs": [],
   "source": [
    "model = Word2Vec(window=10, min_count=2, workers=2)\n",
    "model.build_vocab(text, progress_per=1000)"
   ]
  },
  {
   "cell_type": "code",
   "execution_count": 29,
   "metadata": {},
   "outputs": [
    {
     "data": {
      "text/plain": [
       "(30000, 49091610)"
      ]
     },
     "execution_count": 29,
     "metadata": {},
     "output_type": "execute_result"
    }
   ],
   "source": [
    "model.train(text,total_examples=model.corpus_count,epochs=3, report_delay=1)"
   ]
  },
  {
   "cell_type": "code",
   "execution_count": 30,
   "metadata": {},
   "outputs": [],
   "source": [
    "output_model_path = '../data/word/text8_model.model'\n",
    "output_vectors_path =  '../data/word/text8_vector.txt'\n",
    "model.save(output_model_path)\n",
    "model.wv.save_word2vec_format(output_vectors_path, binary=False)\n",
    "loaded_model = Word2Vec.load(output_model_path)"
   ]
  },
  {
   "cell_type": "code",
   "execution_count": 42,
   "metadata": {},
   "outputs": [
    {
     "data": {
      "text/plain": [
       "[('penman', 0.40714991092681885),\n",
       " ('countywide', 0.39100685715675354),\n",
       " ('pictou', 0.38251352310180664),\n",
       " ('anthon', 0.38214272260665894),\n",
       " ('anisole', 0.3812846541404724),\n",
       " ('orthography', 0.3794950246810913),\n",
       " ('sehr', 0.37888312339782715),\n",
       " ('acquits', 0.3755412697792053),\n",
       " ('acquiring', 0.3711516857147217),\n",
       " ('muluki', 0.36943551898002625)]"
      ]
     },
     "execution_count": 42,
     "metadata": {},
     "output_type": "execute_result"
    }
   ],
   "source": [
    "model.wv.most_similar(\"zedong\")"
   ]
  },
  {
   "cell_type": "code",
   "execution_count": 35,
   "metadata": {},
   "outputs": [
    {
     "data": {
      "text/plain": [
       "-0.06390128"
      ]
     },
     "execution_count": 35,
     "metadata": {},
     "output_type": "execute_result"
    }
   ],
   "source": [
    "model.wv.similarity(\"panda\",\"bear\")"
   ]
  },
  {
   "cell_type": "code",
   "execution_count": 37,
   "metadata": {},
   "outputs": [
    {
     "data": {
      "text/plain": [
       "array([ 8.15259945e-03,  4.22410958e-04,  5.77525515e-03, -2.66761193e-03,\n",
       "        1.20459194e-03,  9.07016080e-03, -6.79626130e-03,  1.73915143e-03,\n",
       "        5.08999452e-03,  7.71843316e-03, -1.45439745e-03,  1.30109664e-03,\n",
       "       -2.56978511e-03,  5.49437059e-03, -4.54757921e-03,  3.84937762e-03,\n",
       "       -9.46969911e-03,  3.59485159e-04,  1.18333104e-04, -1.89425831e-03,\n",
       "       -6.55632978e-03,  3.51570360e-03, -3.92127177e-03, -8.16994533e-03,\n",
       "        7.87679479e-03,  9.83110536e-03,  7.31119514e-03,  5.59115270e-03,\n",
       "        9.27794352e-03, -1.17434980e-03,  9.17724392e-04, -4.29315818e-03,\n",
       "        4.46105609e-03, -9.84096061e-03,  9.11269523e-03, -3.15853365e-04,\n",
       "        3.16360826e-03, -7.11081037e-03,  6.75182464e-03,  1.31356719e-05,\n",
       "       -5.48368553e-03, -6.90786727e-03,  8.85123108e-03, -2.74256594e-03,\n",
       "        1.26894470e-03,  9.34124272e-03,  1.98897254e-03, -3.80099658e-03,\n",
       "        3.65128391e-03, -9.95378010e-03, -4.08979040e-03, -1.98032497e-03,\n",
       "        2.27329368e-03, -8.82878620e-03,  9.64114163e-03, -1.16271852e-03,\n",
       "        5.58078755e-03, -6.73742406e-03,  8.73538945e-03, -3.96136049e-04,\n",
       "        5.87387069e-04,  4.00944240e-03, -5.74718602e-03, -5.38902264e-03,\n",
       "        8.69101845e-03,  6.34937407e-03,  4.51317802e-03, -7.33212475e-03,\n",
       "       -5.62737463e-03,  5.96970320e-04, -6.21545920e-03,  9.00829397e-03,\n",
       "       -6.00606203e-03, -3.82673135e-03,  4.22902359e-03, -3.17658787e-03,\n",
       "       -1.60822982e-03, -7.35460501e-03, -3.71263502e-03, -5.99757535e-03,\n",
       "        9.71129537e-03, -9.44606774e-03,  5.46115404e-03,  5.40283183e-03,\n",
       "        2.62927776e-03,  8.64206068e-03, -9.58479196e-03, -5.43213123e-03,\n",
       "       -7.39161251e-03, -7.08837016e-03,  8.95487703e-03,  6.53964980e-03,\n",
       "        7.12393783e-03,  6.72415504e-03, -8.63389485e-03, -4.02621645e-03,\n",
       "       -9.90175060e-04,  5.12026902e-03, -2.36125104e-03,  8.71029869e-03],\n",
       "      dtype=float32)"
      ]
     },
     "execution_count": 37,
     "metadata": {},
     "output_type": "execute_result"
    }
   ],
   "source": [
    "model.wv['bear']"
   ]
  }
 ],
 "metadata": {
  "kernelspec": {
   "display_name": "base",
   "language": "python",
   "name": "python3"
  },
  "language_info": {
   "codemirror_mode": {
    "name": "ipython",
    "version": 3
   },
   "file_extension": ".py",
   "mimetype": "text/x-python",
   "name": "python",
   "nbconvert_exporter": "python",
   "pygments_lexer": "ipython3",
   "version": "3.11.5"
  }
 },
 "nbformat": 4,
 "nbformat_minor": 2
}
