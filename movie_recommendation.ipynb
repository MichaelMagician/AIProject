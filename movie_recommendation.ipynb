{
 "cells": [
  {
   "cell_type": "markdown",
   "metadata": {},
   "source": [
    "# Movie Recommendations with collaborative recommendations"
   ]
  },
  {
   "cell_type": "code",
   "execution_count": 1,
   "metadata": {},
   "outputs": [],
   "source": [
    "import numpy as np\n",
    "import pandas as pd\n",
    "import matplotlib.pyplot as plt\n",
    "from sklearn.model_selection import train_test_split\n",
    "from sklearn.metrics import accuracy_score, confusion_matrix, f1_score"
   ]
  },
  {
   "cell_type": "markdown",
   "metadata": {},
   "source": [
    "### Read data"
   ]
  },
  {
   "cell_type": "code",
   "execution_count": 6,
   "metadata": {},
   "outputs": [
    {
     "name": "stdout",
     "output_type": "stream",
     "text": [
      "   userId  movieId  rating   timestamp\n",
      "0       1      296     5.0  1147880044\n",
      "1       1      306     3.5  1147868817\n"
     ]
    }
   ],
   "source": [
    "train_data = pd.read_csv('./data/ml-25m/ratings.csv', nrows=1000)\n",
    "print(train_data.head(2))\n"
   ]
  },
  {
   "cell_type": "markdown",
   "metadata": {},
   "source": [
    "### Analyze data"
   ]
  },
  {
   "cell_type": "code",
   "execution_count": 7,
   "metadata": {},
   "outputs": [
    {
     "name": "stdout",
     "output_type": "stream",
     "text": [
      "         userId  rating  timestamp\n",
      "movieId                           \n",
      "1             3       3          3\n",
      "29            1       1          1\n",
      "32            1       1          1\n",
      "50            1       1          1\n",
      "62            1       1          1\n",
      "...         ...     ...        ...\n",
      "176371        1       1          1\n",
      "179819        1       1          1\n",
      "182823        1       1          1\n",
      "187541        1       1          1\n",
      "187593        1       1          1\n",
      "\n",
      "[869 rows x 3 columns]\n"
     ]
    }
   ],
   "source": [
    "popularity = train_data.groupby(train_data['movieId']).count()\n",
    "print(popularity)"
   ]
  },
  {
   "cell_type": "markdown",
   "metadata": {},
   "source": [
    "### Train test split"
   ]
  },
  {
   "cell_type": "code",
   "execution_count": null,
   "metadata": {},
   "outputs": [],
   "source": [
    "from collections import defaultdict\n",
    "from typing import List\n",
    "\n",
    "def get_user_movie_dict(data):\n",
    "    pass\n",
    "\n",
    "def calculate_user_similarity(data) -> dict: \n",
    "    pass\n",
    "\n",
    "def get_top_k_similar_users(user_id, similarities) -> List: \n",
    "    'return user and similarity score'\n",
    "    pass\n",
    "\n",
    "def recommended_movies(user_id, k):\n",
    "    candidate_movies = defaultdict(float) # movie_id, recommendation score\n",
    "    # find top N similar users\n",
    "    user_movie_dict = get_user_movie_dict(train_data) # user_id -> movie_id, movie_rating\n",
    "    user_watched_movies = user_movie_dict[user_id]\n",
    "    user_similarities = calculate_user_similarity(train_data)\n",
    "    similar_users = get_top_k_similar_users(user_id, 10)\n",
    "\n",
    "    for user_v, similarity_score in similar_users:\n",
    "        user_v_movies = user_movie_dict[user_v]\n",
    "        for movie in user_v_movies:\n",
    "            if movie['movieId'] not in user_watched_movies:\n",
    "                candidate_movies[movie['movieId']] += similarity_score * movie['rating']\n",
    "\n",
    "    recommendation = sorted(candidate_movies.items(), key=lambda mv: mv[1], reverse=True)\n",
    "    return [x[0] for x in recommendation[:k]]\n",
    "\n"
   ]
  },
  {
   "cell_type": "markdown",
   "metadata": {},
   "source": [
    "### Transform data"
   ]
  },
  {
   "cell_type": "code",
   "execution_count": null,
   "metadata": {},
   "outputs": [],
   "source": [
    "# find user similarities\n",
    "# given user U, find top K similar users\n",
    "# foreach similar user v, get movies that U hasn't watched. And calculate movie recommendation score for each movie\n",
    "# sort candidate movies by recommendation scores and pick the top K\n"
   ]
  },
  {
   "cell_type": "markdown",
   "metadata": {},
   "source": [
    "### Train model"
   ]
  },
  {
   "cell_type": "code",
   "execution_count": null,
   "metadata": {},
   "outputs": [],
   "source": []
  },
  {
   "cell_type": "markdown",
   "metadata": {},
   "source": [
    "### Evaluate model"
   ]
  },
  {
   "cell_type": "code",
   "execution_count": null,
   "metadata": {},
   "outputs": [],
   "source": []
  },
  {
   "cell_type": "markdown",
   "metadata": {},
   "source": [
    "### Predit on test dataset"
   ]
  },
  {
   "cell_type": "code",
   "execution_count": null,
   "metadata": {},
   "outputs": [],
   "source": [
    "\n"
   ]
  },
  {
   "cell_type": "markdown",
   "metadata": {},
   "source": [
    "\n",
    "### Output"
   ]
  },
  {
   "cell_type": "code",
   "execution_count": 1,
   "metadata": {},
   "outputs": [],
   "source": [
    "\n",
    "# df = pd.DataFrame()\n",
    "# df.to_csv('submission.csv',index = False, header=True)"
   ]
  }
 ],
 "metadata": {
  "kernelspec": {
   "display_name": "base",
   "language": "python",
   "name": "python3"
  },
  "language_info": {
   "codemirror_mode": {
    "name": "ipython",
    "version": 3
   },
   "file_extension": ".py",
   "mimetype": "text/x-python",
   "name": "python",
   "nbconvert_exporter": "python",
   "pygments_lexer": "ipython3",
   "version": "3.11.5"
  }
 },
 "nbformat": 4,
 "nbformat_minor": 2
}
