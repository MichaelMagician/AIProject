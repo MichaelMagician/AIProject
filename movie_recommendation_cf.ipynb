{
 "cells": [
  {
   "cell_type": "markdown",
   "metadata": {},
   "source": [
    "# Movie Recommendations with collaborative recommendations"
   ]
  },
  {
   "cell_type": "code",
   "execution_count": 4,
   "metadata": {},
   "outputs": [
    {
     "ename": "ModuleNotFoundError",
     "evalue": "No module named 'pandas'",
     "output_type": "error",
     "traceback": [
      "\u001b[1;31m---------------------------------------------------------------------------\u001b[0m",
      "\u001b[1;31mModuleNotFoundError\u001b[0m                       Traceback (most recent call last)",
      "Cell \u001b[1;32mIn[4], line 2\u001b[0m\n\u001b[0;32m      1\u001b[0m \u001b[38;5;28;01mimport\u001b[39;00m \u001b[38;5;21;01mnumpy\u001b[39;00m \u001b[38;5;28;01mas\u001b[39;00m \u001b[38;5;21;01mnp\u001b[39;00m\n\u001b[1;32m----> 2\u001b[0m \u001b[38;5;28;01mimport\u001b[39;00m \u001b[38;5;21;01mpandas\u001b[39;00m \u001b[38;5;28;01mas\u001b[39;00m \u001b[38;5;21;01mpd\u001b[39;00m\n\u001b[0;32m      3\u001b[0m \u001b[38;5;28;01mimport\u001b[39;00m \u001b[38;5;21;01mmatplotlib\u001b[39;00m\u001b[38;5;21;01m.\u001b[39;00m\u001b[38;5;21;01mpyplot\u001b[39;00m \u001b[38;5;28;01mas\u001b[39;00m \u001b[38;5;21;01mplt\u001b[39;00m\n\u001b[0;32m      4\u001b[0m \u001b[38;5;28;01mfrom\u001b[39;00m \u001b[38;5;21;01msklearn\u001b[39;00m\u001b[38;5;21;01m.\u001b[39;00m\u001b[38;5;21;01mmodel_selection\u001b[39;00m \u001b[38;5;28;01mimport\u001b[39;00m train_test_split\n",
      "\u001b[1;31mModuleNotFoundError\u001b[0m: No module named 'pandas'"
     ]
    }
   ],
   "source": [
    "import numpy as np\n",
    "import pandas as pd\n",
    "import matplotlib.pyplot as plt\n",
    "from sklearn.model_selection import train_test_split\n",
    "from sklearn.metrics import accuracy_score, confusion_matrix, f1_score\n",
    "from collections import defaultdict\n",
    "from typing import List\n",
    "from tqdm import tqdm\n"
   ]
  },
  {
   "cell_type": "markdown",
   "metadata": {},
   "source": [
    "### Read data"
   ]
  },
  {
   "cell_type": "code",
   "execution_count": 1,
   "metadata": {},
   "outputs": [
    {
     "ename": "NameError",
     "evalue": "name 'pd' is not defined",
     "output_type": "error",
     "traceback": [
      "\u001b[1;31m---------------------------------------------------------------------------\u001b[0m",
      "\u001b[1;31mNameError\u001b[0m                                 Traceback (most recent call last)",
      "Cell \u001b[1;32mIn[1], line 1\u001b[0m\n\u001b[1;32m----> 1\u001b[0m data \u001b[38;5;241m=\u001b[39m \u001b[43mpd\u001b[49m\u001b[38;5;241m.\u001b[39mread_csv(\u001b[38;5;124m'\u001b[39m\u001b[38;5;124m./data/ml-25m/ratings.dat\u001b[39m\u001b[38;5;124m'\u001b[39m, nrows\u001b[38;5;241m=\u001b[39m\u001b[38;5;241m100000\u001b[39m)\n\u001b[0;32m      2\u001b[0m \u001b[38;5;28mprint\u001b[39m(data\u001b[38;5;241m.\u001b[39mhead(\u001b[38;5;241m10\u001b[39m))\n\u001b[0;32m      4\u001b[0m all_movie_counts \u001b[38;5;241m=\u001b[39m \u001b[38;5;28mlen\u001b[39m(data[\u001b[38;5;124m'\u001b[39m\u001b[38;5;124mmovieId\u001b[39m\u001b[38;5;124m'\u001b[39m]\u001b[38;5;241m.\u001b[39munique())\n",
      "\u001b[1;31mNameError\u001b[0m: name 'pd' is not defined"
     ]
    }
   ],
   "source": [
    "data = pd.read_csv('./data/ml-25m/ratings.csv', nrows=100000)\n",
    "print(data.head(10))\n",
    "\n",
    "all_movie_counts = len(data['movieId'].unique())\n",
    "train_data, valid_x, train_y, valid_y = train_test_split(data, data['rating'], test_size=0.2, random_state=0)\n"
   ]
  },
  {
   "cell_type": "markdown",
   "metadata": {},
   "source": [
    "### Analyze data"
   ]
  },
  {
   "cell_type": "code",
   "execution_count": 56,
   "metadata": {},
   "outputs": [
    {
     "data": {
      "text/plain": [
       "Text(0, 0.5, 'popularity')"
      ]
     },
     "execution_count": 56,
     "metadata": {},
     "output_type": "execute_result"
    },
    {
     "data": {
      "image/png": "[encoded data removed]",
      "text/plain": [
       "<Figure size 640x480 with 1 Axes>"
      ]
     },
     "metadata": {},
     "output_type": "display_data"
    }
   ],
   "source": [
    "popularity = train_data.groupby(train_data['movieId']).size().to_list()\n",
    "# print(popularity)\n",
    "\n",
    "sorted_popularity =list(sorted(popularity, reverse=True))\n",
    "# s =  map(lambda x: x[1], sorted_popularity)\n",
    "plt.plot(sorted_popularity)\n",
    "plt.ylabel('popularity')"
   ]
  },
  {
   "cell_type": "markdown",
   "metadata": {},
   "source": [
    "### Train test split"
   ]
  },
  {
   "cell_type": "code",
   "execution_count": 57,
   "metadata": {},
   "outputs": [
    {
     "name": "stdout",
     "output_type": "stream",
     "text": [
      "757\n"
     ]
    }
   ],
   "source": [
    "# user to movies dictionary\n",
    "def get_user_movie_dict(data: pd.DataFrame):\n",
    "    'dict {u_id: pd}'\n",
    "    return {key: values for (key, values) in data.groupby('userId')}\n",
    "\n",
    "users = list(set(train_data['userId']))\n",
    "user_movie_dict = get_user_movie_dict(train_data) \n",
    "print(len(users))"
   ]
  },
  {
   "cell_type": "markdown",
   "metadata": {},
   "source": [
    "## User similarity calculation"
   ]
  },
  {
   "cell_type": "code",
   "execution_count": 58,
   "metadata": {},
   "outputs": [],
   "source": [
    "# find user similarities\n",
    "# given user U, find top K similar users\n",
    "# foreach similar user v, get movies that U hasn't watched. And calculate movie recommendation score for each movie\n",
    "# sort candidate movies by recommendation scores and pick the top K\n",
    "\n",
    "def calculate_user_similarity(user_movie_dict, users) -> dict: \n",
    "    'dict: {u: {v:score}} '\n",
    "    similarity_scores_dict = defaultdict(dict)\n",
    "    \n",
    "    for i in range(len(users)):\n",
    "        for j in range(i + 1 ,len(users)):\n",
    "            u = users[i]\n",
    "            v = users[j]\n",
    "            u_movies = set(user_movie_dict[u]['movieId'].to_list())\n",
    "            v_movies = set(user_movie_dict[v]['movieId'].to_list())\n",
    "            movies_common = u_movies.intersection(v_movies)\n",
    "            \n",
    "            score = len(movies_common) / np.sqrt(len(u_movies) * len(v_movies))            \n",
    "            similarity_scores_dict[u][v]= score            \n",
    "            similarity_scores_dict[v][u]=score\n",
    "    return similarity_scores_dict\n",
    "\n",
    "user_similarity_score = calculate_user_similarity(user_movie_dict, users)"
   ]
  },
  {
   "cell_type": "code",
   "execution_count": 59,
   "metadata": {},
   "outputs": [],
   "source": [
    "\n",
    "def get_top_k_similar_users(user_id: int|str, user_similarity_score : dict, k: int = 10) -> List: \n",
    "    'return list of {user_id, similarity score}'\n",
    "    similar_users = user_similarity_score.get(user_id, {}) # {u_1:0.2, v3: 0.3}\n",
    "    res = sorted(similar_users.items(), key=lambda x: x[1], reverse=True)\n",
    "    return [x for x in res[:k]]\n",
    "    \n",
    "similar_users = get_top_k_similar_users(1, user_similarity_score, 5)\n",
    "# print(similar_users)"
   ]
  },
  {
   "cell_type": "markdown",
   "metadata": {},
   "source": [
    "## Recommend based on user similarity"
   ]
  },
  {
   "cell_type": "code",
   "execution_count": 60,
   "metadata": {},
   "outputs": [
    {
     "name": "stdout",
     "output_type": "stream",
     "text": [
      "[5952, 4306, 318, 7153, 4226, 527, 356, 4993, 4886, 1206, 1089, 593, 2571, 1270, 7361, 47, 110, 1704, 4963, 2762]\n"
     ]
    }
   ],
   "source": [
    "\n",
    "def recommended_movies(user_id, user_movie_dict, user_similarity_score,  k) -> List: \n",
    "    'list of movie_id'\n",
    "    candidate_movies = defaultdict(float) # movie_id, recommendation score\n",
    "    # find top N similar users    \n",
    "    user_watched_movies = set(user_movie_dict[user_id]['movieId'].to_list())\n",
    "    similar_users = get_top_k_similar_users(user_id, user_similarity_score,  k)\n",
    "    \n",
    "    for user_v, similarity_score in similar_users:\n",
    "        user_v_movies = user_movie_dict[user_v]\n",
    "        for index, movie in user_v_movies.iterrows():\n",
    "            if movie['movieId'] not in user_watched_movies:\n",
    "                candidate_movies[movie['movieId']] += similarity_score * movie['rating']\n",
    "\n",
    "    recommendation = sorted(candidate_movies.items(), key=lambda mv: mv[1], reverse=True)\n",
    "    return [int(x[0]) for x in recommendation[:k]]\n",
    "\n",
    "suggestions = recommended_movies(1, user_movie_dict, user_similarity_score, 20)\n",
    "print(suggestions)\n"
   ]
  },
  {
   "cell_type": "markdown",
   "metadata": {},
   "source": [
    "### Test on validation dataset"
   ]
  },
  {
   "cell_type": "code",
   "execution_count": 68,
   "metadata": {},
   "outputs": [],
   "source": [
    "valid_user_movies ={key:value['movieId'].to_list() for (key, value) in get_user_movie_dict(valid_x).items()}"
   ]
  },
  {
   "cell_type": "code",
   "execution_count": 67,
   "metadata": {},
   "outputs": [
    {
     "ename": "KeyboardInterrupt",
     "evalue": "",
     "output_type": "error",
     "traceback": [
      "\u001b[1;31m---------------------------------------------------------------------------\u001b[0m",
      "\u001b[1;31mKeyboardInterrupt\u001b[0m                         Traceback (most recent call last)",
      "Cell \u001b[1;32mIn[67], line 5\u001b[0m\n\u001b[0;32m      1\u001b[0m \u001b[38;5;66;03m# test movie data,\u001b[39;00m\n\u001b[0;32m      2\u001b[0m \u001b[38;5;66;03m# user_movie data\u001b[39;00m\n\u001b[0;32m      3\u001b[0m \u001b[38;5;66;03m# recommend movie\u001b[39;00m\n\u001b[0;32m      4\u001b[0m valid_user_movies \u001b[38;5;241m=\u001b[39m get_user_movie_dict(valid_x)\n\u001b[1;32m----> 5\u001b[0m valid_recommendation \u001b[38;5;241m=\u001b[39m {}\n\u001b[0;32m      6\u001b[0m \u001b[38;5;28;01mfor\u001b[39;00m user_id \u001b[38;5;129;01min\u001b[39;00m tqdm(valid_user_movies\u001b[38;5;241m.\u001b[39mkeys()):\n\u001b[0;32m      7\u001b[0m      recomendatation \u001b[38;5;241m=\u001b[39m recommended_movies(user_id, user_movie_dict, user_similarity_score, \u001b[38;5;241m20\u001b[39m)\n",
      "Cell \u001b[1;32mIn[67], line 5\u001b[0m\n\u001b[0;32m      1\u001b[0m \u001b[38;5;66;03m# test movie data,\u001b[39;00m\n\u001b[0;32m      2\u001b[0m \u001b[38;5;66;03m# user_movie data\u001b[39;00m\n\u001b[0;32m      3\u001b[0m \u001b[38;5;66;03m# recommend movie\u001b[39;00m\n\u001b[0;32m      4\u001b[0m valid_user_movies \u001b[38;5;241m=\u001b[39m get_user_movie_dict(valid_x)\n\u001b[1;32m----> 5\u001b[0m valid_recommendation \u001b[38;5;241m=\u001b[39m {}\n\u001b[0;32m      6\u001b[0m \u001b[38;5;28;01mfor\u001b[39;00m user_id \u001b[38;5;129;01min\u001b[39;00m tqdm(valid_user_movies\u001b[38;5;241m.\u001b[39mkeys()):\n\u001b[0;32m      7\u001b[0m      recomendatation \u001b[38;5;241m=\u001b[39m recommended_movies(user_id, user_movie_dict, user_similarity_score, \u001b[38;5;241m20\u001b[39m)\n",
      "File \u001b[1;32m_pydevd_bundle/pydevd_cython.pyx:1457\u001b[0m, in \u001b[0;36m_pydevd_bundle.pydevd_cython.SafeCallWrapper.__call__\u001b[1;34m()\u001b[0m\n",
      "File \u001b[1;32m_pydevd_bundle/pydevd_cython.pyx:701\u001b[0m, in \u001b[0;36m_pydevd_bundle.pydevd_cython.PyDBFrame.trace_dispatch\u001b[1;34m()\u001b[0m\n",
      "File \u001b[1;32m_pydevd_bundle/pydevd_cython.pyx:1152\u001b[0m, in \u001b[0;36m_pydevd_bundle.pydevd_cython.PyDBFrame.trace_dispatch\u001b[1;34m()\u001b[0m\n",
      "File \u001b[1;32m_pydevd_bundle/pydevd_cython.pyx:1135\u001b[0m, in \u001b[0;36m_pydevd_bundle.pydevd_cython.PyDBFrame.trace_dispatch\u001b[1;34m()\u001b[0m\n",
      "File \u001b[1;32m_pydevd_bundle/pydevd_cython.pyx:312\u001b[0m, in \u001b[0;36m_pydevd_bundle.pydevd_cython.PyDBFrame.do_wait_suspend\u001b[1;34m()\u001b[0m\n",
      "File \u001b[1;32mc:\\Users\\miche\\anaconda3\\Lib\\site-packages\\debugpy\\_vendored\\pydevd\\pydevd.py:2070\u001b[0m, in \u001b[0;36mPyDB.do_wait_suspend\u001b[1;34m(self, thread, frame, event, arg, exception_type)\u001b[0m\n\u001b[0;32m   2067\u001b[0m             from_this_thread\u001b[38;5;241m.\u001b[39mappend(frame_custom_thread_id)\n\u001b[0;32m   2069\u001b[0m     \u001b[38;5;28;01mwith\u001b[39;00m \u001b[38;5;28mself\u001b[39m\u001b[38;5;241m.\u001b[39m_threads_suspended_single_notification\u001b[38;5;241m.\u001b[39mnotify_thread_suspended(thread_id, thread, stop_reason):\n\u001b[1;32m-> 2070\u001b[0m         keep_suspended \u001b[38;5;241m=\u001b[39m \u001b[38;5;28mself\u001b[39m\u001b[38;5;241m.\u001b[39m_do_wait_suspend(thread, frame, event, arg, suspend_type, from_this_thread, frames_tracker)\n\u001b[0;32m   2072\u001b[0m frames_list \u001b[38;5;241m=\u001b[39m \u001b[38;5;28;01mNone\u001b[39;00m\n\u001b[0;32m   2074\u001b[0m \u001b[38;5;28;01mif\u001b[39;00m keep_suspended:\n\u001b[0;32m   2075\u001b[0m     \u001b[38;5;66;03m# This means that we should pause again after a set next statement.\u001b[39;00m\n",
      "File \u001b[1;32mc:\\Users\\miche\\anaconda3\\Lib\\site-packages\\debugpy\\_vendored\\pydevd\\pydevd.py:2106\u001b[0m, in \u001b[0;36mPyDB._do_wait_suspend\u001b[1;34m(self, thread, frame, event, arg, suspend_type, from_this_thread, frames_tracker)\u001b[0m\n\u001b[0;32m   2103\u001b[0m         \u001b[38;5;28mself\u001b[39m\u001b[38;5;241m.\u001b[39m_call_input_hook()\n\u001b[0;32m   2105\u001b[0m     \u001b[38;5;28mself\u001b[39m\u001b[38;5;241m.\u001b[39mprocess_internal_commands()\n\u001b[1;32m-> 2106\u001b[0m     time\u001b[38;5;241m.\u001b[39msleep(\u001b[38;5;241m0.01\u001b[39m)\n\u001b[0;32m   2108\u001b[0m \u001b[38;5;28mself\u001b[39m\u001b[38;5;241m.\u001b[39mcancel_async_evaluation(get_current_thread_id(thread), \u001b[38;5;28mstr\u001b[39m(\u001b[38;5;28mid\u001b[39m(frame)))\n\u001b[0;32m   2110\u001b[0m \u001b[38;5;66;03m# process any stepping instructions\u001b[39;00m\n",
      "\u001b[1;31mKeyboardInterrupt\u001b[0m: "
     ]
    }
   ],
   "source": [
    "# test movie data,\n",
    "# user_movie data\n",
    "# recommend movie\n",
    "valid_user_movies ={key:value['movieId'].to_list() for (key, value) in get_user_movie_dict(valid_x).items()}\n",
    "valid_user_movies = get_user_movie_dict(valid_x)\n",
    "valid_recommendation = {}\n",
    "for user_id in tqdm(valid_user_movies.keys()):\n",
    "     recomendatation = recommended_movies(user_id, user_movie_dict, user_similarity_score, 20)\n",
    "     valid_recommendation[user_id] = recomendatation"
   ]
  },
  {
   "cell_type": "markdown",
   "metadata": {},
   "source": [
    "### Metrics\n"
   ]
  },
  {
   "cell_type": "code",
   "execution_count": 72,
   "metadata": {},
   "outputs": [
    {
     "name": "stdout",
     "output_type": "stream",
     "text": [
      "{'precision_rate': 0.12169312169312169, 'recall_rate': 0.092, 'coverage_rate': 0.03300633558144288}\n"
     ]
    }
   ],
   "source": [
    "# calc metrics given recommendations and actual movies the users watched. \n",
    "# Presision rate = hit / recommended count; recall rate = hit/ actual watched movies; coverage = commendated count/ all movie count.\n",
    "\n",
    "def calc_metrics(user_recommendated_movies, user_actual_watched_movies, all_movie_counts, n=10000) -> dict:\n",
    "    hit, user_actual_watched_movies_count, recommended_movies_count = 0, 0, 0\n",
    "    all_movie_rec = set()\n",
    "    for user_id, reco in user_recommendated_movies.items():        \n",
    "        actual_watched_movies = set(user_actual_watched_movies[user_id])\n",
    "        rec = set(reco[:n])\n",
    "        hit += len(actual_watched_movies & rec)\n",
    "        user_actual_watched_movies_count += len(actual_watched_movies)\n",
    "        recommended_movies_count += len(reco)\n",
    "        all_movie_rec =all_movie_rec.union(rec)\n",
    "\n",
    "    return {\"precision_rate\": hit / recommended_movies_count, \"recall_rate\": hit / user_actual_watched_movies_count, \"coverage_rate\": len(all_movie_rec)/all_movie_counts}\n",
    "\n",
    "\n",
    "metrics = calc_metrics(valid_recommendation, valid_user_movies, all_movie_counts, 10)\n",
    "print(metrics)"
   ]
  },
  {
   "cell_type": "code",
   "execution_count": 76,
   "metadata": {},
   "outputs": [
    {
     "name": "stdout",
     "output_type": "stream",
     "text": [
      "                      5         15        25        35        45        55\n",
      "precision_rate  0.070503  0.164683  0.199405  0.199405  0.199405  0.199405\n",
      "recall_rate     0.053300  0.124500  0.150750  0.150750  0.150750  0.150750\n",
      "coverage_rate   0.023401  0.042203  0.050174  0.050174  0.050174  0.050174\n"
     ]
    }
   ],
   "source": [
    "metrics = {}\n",
    "for i in range(5, 10, 5):\n",
    "    metrics[i] = calc_metrics(valid_recommendation, valid_user_movies, all_movie_counts, i)    \n",
    "df = pd.DataFrame(metrics)\n",
    "print(df)"
   ]
  },
  {
   "cell_type": "markdown",
   "metadata": {},
   "source": [
    "### Train model"
   ]
  },
  {
   "cell_type": "code",
   "execution_count": null,
   "metadata": {},
   "outputs": [],
   "source": []
  },
  {
   "cell_type": "markdown",
   "metadata": {},
   "source": [
    "### Evaluate model"
   ]
  },
  {
   "cell_type": "code",
   "execution_count": null,
   "metadata": {},
   "outputs": [],
   "source": []
  },
  {
   "cell_type": "markdown",
   "metadata": {},
   "source": [
    "### Predit on test dataset"
   ]
  },
  {
   "cell_type": "code",
   "execution_count": null,
   "metadata": {},
   "outputs": [],
   "source": [
    "\n"
   ]
  },
  {
   "cell_type": "markdown",
   "metadata": {},
   "source": [
    "\n",
    "### Output"
   ]
  },
  {
   "cell_type": "code",
   "execution_count": null,
   "metadata": {},
   "outputs": [],
   "source": [
    "\n",
    "# df = pd.DataFrame()\n",
    "# df.to_csv('submission.csv',index = False, header=True)"
   ]
  }
 ],
 "metadata": {
  "kernelspec": {
   "display_name": "base",
   "language": "python",
   "name": "python3"
  },
  "language_info": {
   "codemirror_mode": {
    "name": "ipython",
    "version": 3
   },
   "file_extension": ".py",
   "mimetype": "text/x-python",
   "name": "python",
   "nbconvert_exporter": "python",
   "pygments_lexer": "ipython3",
   "version": "3.9.13"
  }
 },
 "nbformat": 4,
 "nbformat_minor": 2
}
